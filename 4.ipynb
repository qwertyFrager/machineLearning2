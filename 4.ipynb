{
 "cells": [
  {
   "cell_type": "code",
   "execution_count": 35,
   "metadata": {},
   "outputs": [
    {
     "data": {
      "application/vnd.plotly.v1+json": {
       "config": {
        "plotlyServerURL": "https://plot.ly"
       },
       "data": [
        {
         "line": {
          "color": "green",
          "width": 2
         },
         "name": "Данные для обучения",
         "type": "scatter",
         "x": [
          0,
          345600,
          432000,
          518400,
          604800,
          864000,
          950400,
          1036800,
          1123200,
          1209600,
          1468800,
          1555200,
          1641600,
          1728000,
          1814400,
          2073600,
          2160000,
          2246400,
          2332800,
          2419200,
          2678400,
          2764800,
          2851200,
          2937600,
          3024000,
          3283200,
          3456000,
          3542400,
          3628800,
          3888000,
          3974400,
          4060800,
          4147200,
          4233600,
          4492800,
          4579200,
          4665600,
          4752000,
          4838400,
          5097600,
          5184000,
          5270400,
          5356800,
          5443200,
          5702400,
          5788800,
          5875200,
          5961600,
          6048000,
          6307200,
          6393600,
          6480000,
          6566400,
          6652800,
          6912000,
          6998400,
          7084800,
          7171200,
          7257600,
          7516800,
          7603200,
          7689600,
          7776000,
          7862400,
          8121600,
          8208000,
          8294400,
          8380800,
          8467200,
          8812800,
          8899200,
          8985600,
          9072000,
          9331200,
          9417600,
          9504000,
          9590400,
          9676800,
          9936000,
          10022400,
          10108800,
          10195200,
          10281600,
          10540800,
          10627200,
          10713600,
          10800000,
          10886400,
          11145600,
          11232000,
          11318400,
          11404800,
          11491200,
          11750400,
          11836800,
          11923200,
          12009600,
          12096000,
          12355200,
          12441600,
          12528000,
          12614400,
          12700800,
          12960000,
          13046400,
          13132800,
          13219200,
          13305600,
          13564800,
          13651200,
          13737600,
          13824000,
          13910400,
          14169600,
          14256000,
          14342400,
          14428800,
          14515200,
          14774400,
          14860800,
          14947200,
          15033600,
          15120000,
          15379200,
          15465600,
          15552000,
          15724800,
          15984000,
          16070400,
          16156800,
          16243200,
          16329600,
          16588800,
          16675200,
          16761600,
          16848000,
          16934400,
          17193600,
          17280000,
          17366400,
          17452800,
          17539200,
          17798400,
          17884800,
          17971200,
          18057600,
          18144000,
          18489600,
          18576000,
          18662400,
          18748800,
          19180800,
          19267200,
          19353600,
          19612800,
          19699200,
          19785600,
          19872000,
          19958400,
          20304000
         ],
         "y": [
          190.87,
          186.16,
          186.1,
          191.5,
          189.91,
          187.41,
          195.19,
          193.45,
          196.85,
          193.48,
          190.96,
          193.46,
          192.39,
          195.7,
          195.55,
          194.26,
          193.78,
          201.27,
          200.17,
          202.63,
          202.31,
          201.36,
          203.26,
          209.11,
          209.87,
          211.81,
          210.94,
          211.81,
          210.44,
          209.31,
          212.49,
          208.83,
          204.62,
          201.95,
          204.15,
          201.73,
          199.7,
          193.75,
          195.25,
          195.65,
          194.87,
          192.94,
          191.39,
          194.25,
          193.49,
          187.94,
          183.8,
          187.88,
          187.11,
          189.16,
          190.69,
          188.66,
          187.29,
          184.43,
          184.9,
          190.68,
          194.05,
          193.09,
          191.87,
          188.84,
          189.33,
          186.9,
          187.05,
          186.82,
          190.67,
          189.66,
          190.57,
          189.45,
          189.49,
          192.37,
          190.26,
          189.43,
          189.11,
          192.24,
          196.15,
          203.49,
          202.19,
          205.14,
          207.55,
          202.11,
          198.7,
          203.63,
          202.09,
          202.19,
          203.64,
          201.66,
          201.99,
          201.15,
          200.92,
          202.22,
          208.06,
          206.11,
          210.46,
          214.71,
          213.54,
          213.46,
          213.93,
          213.86,
          211.09,
          210.53,
          209.86,
          213.24,
          230.06,
          240.63,
          236.89,
          243.54,
          242.79,
          237.84,
          238.52,
          238.43,
          233.98,
          235.19,
          236.13,
          238.71,
          236.52,
          237.74,
          236.55,
          237.01,
          240.76,
          244.89,
          246.21,
          248.2,
          249.64,
          247.77,
          255.08,
          254.26,
          252.8,
          242.62,
          244.99,
          242.57,
          242.65,
          240.64,
          242.67,
          243.74,
          244.6,
          241.56,
          242.3,
          242.21,
          241.13,
          239.73,
          241.3,
          240.39,
          231.63,
          234.55,
          231.68,
          228.33,
          228.02,
          228.99,
          234.25,
          231.51,
          230.47,
          234.03,
          241.87,
          243.84,
          242.03,
          242.99,
          244.97,
          250.11,
          252.75,
          252.39
         ]
        },
        {
         "line": {
          "color": "red",
          "width": 2
         },
         "name": "Данные для верификации",
         "type": "scatter",
         "x": [
          20390400,
          20476800,
          20563200,
          20822400,
          20908800,
          20995200,
          21081600,
          21168000,
          21427200,
          21513600,
          21600000,
          21686400,
          21772800,
          22032000,
          22118400,
          22204800,
          22291200,
          22377600,
          22636800,
          22723200,
          22809600,
          22896000,
          22982400,
          23328000,
          23414400,
          23500800,
          23587200,
          23846400,
          23932800,
          24019200,
          24105600,
          24192000,
          24451200,
          24537600,
          24624000,
          24710400,
          24796800,
          25056000,
          25142400,
          25228800
         ],
         "y": [
          248.89,
          244.16,
          245.12,
          240.66,
          239.76,
          249.78,
          244.29,
          248.17,
          246.48,
          247.41,
          251,
          241.12,
          240.99,
          233.81,
          235.98,
          235.24,
          235.75,
          231.18,
          229.37,
          229.78,
          233.2,
          230.97,
          235.2,
          236.29,
          238.17,
          238.16,
          235.55,
          232.7,
          224.61,
          224.95,
          224.34,
          219.56,
          220.69,
          229,
          228.05,
          227.59,
          226.71,
          227.6,
          221.74,
          224.22
         ]
        }
       ],
       "layout": {
        "autosize": true,
        "template": {
         "data": {
          "bar": [
           {
            "error_x": {
             "color": "#2a3f5f"
            },
            "error_y": {
             "color": "#2a3f5f"
            },
            "marker": {
             "line": {
              "color": "#E5ECF6",
              "width": 0.5
             },
             "pattern": {
              "fillmode": "overlay",
              "size": 10,
              "solidity": 0.2
             }
            },
            "type": "bar"
           }
          ],
          "barpolar": [
           {
            "marker": {
             "line": {
              "color": "#E5ECF6",
              "width": 0.5
             },
             "pattern": {
              "fillmode": "overlay",
              "size": 10,
              "solidity": 0.2
             }
            },
            "type": "barpolar"
           }
          ],
          "carpet": [
           {
            "aaxis": {
             "endlinecolor": "#2a3f5f",
             "gridcolor": "white",
             "linecolor": "white",
             "minorgridcolor": "white",
             "startlinecolor": "#2a3f5f"
            },
            "baxis": {
             "endlinecolor": "#2a3f5f",
             "gridcolor": "white",
             "linecolor": "white",
             "minorgridcolor": "white",
             "startlinecolor": "#2a3f5f"
            },
            "type": "carpet"
           }
          ],
          "choropleth": [
           {
            "colorbar": {
             "outlinewidth": 0,
             "ticks": ""
            },
            "type": "choropleth"
           }
          ],
          "contour": [
           {
            "colorbar": {
             "outlinewidth": 0,
             "ticks": ""
            },
            "colorscale": [
             [
              0,
              "#0d0887"
             ],
             [
              0.1111111111111111,
              "#46039f"
             ],
             [
              0.2222222222222222,
              "#7201a8"
             ],
             [
              0.3333333333333333,
              "#9c179e"
             ],
             [
              0.4444444444444444,
              "#bd3786"
             ],
             [
              0.5555555555555556,
              "#d8576b"
             ],
             [
              0.6666666666666666,
              "#ed7953"
             ],
             [
              0.7777777777777778,
              "#fb9f3a"
             ],
             [
              0.8888888888888888,
              "#fdca26"
             ],
             [
              1,
              "#f0f921"
             ]
            ],
            "type": "contour"
           }
          ],
          "contourcarpet": [
           {
            "colorbar": {
             "outlinewidth": 0,
             "ticks": ""
            },
            "type": "contourcarpet"
           }
          ],
          "heatmap": [
           {
            "colorbar": {
             "outlinewidth": 0,
             "ticks": ""
            },
            "colorscale": [
             [
              0,
              "#0d0887"
             ],
             [
              0.1111111111111111,
              "#46039f"
             ],
             [
              0.2222222222222222,
              "#7201a8"
             ],
             [
              0.3333333333333333,
              "#9c179e"
             ],
             [
              0.4444444444444444,
              "#bd3786"
             ],
             [
              0.5555555555555556,
              "#d8576b"
             ],
             [
              0.6666666666666666,
              "#ed7953"
             ],
             [
              0.7777777777777778,
              "#fb9f3a"
             ],
             [
              0.8888888888888888,
              "#fdca26"
             ],
             [
              1,
              "#f0f921"
             ]
            ],
            "type": "heatmap"
           }
          ],
          "heatmapgl": [
           {
            "colorbar": {
             "outlinewidth": 0,
             "ticks": ""
            },
            "colorscale": [
             [
              0,
              "#0d0887"
             ],
             [
              0.1111111111111111,
              "#46039f"
             ],
             [
              0.2222222222222222,
              "#7201a8"
             ],
             [
              0.3333333333333333,
              "#9c179e"
             ],
             [
              0.4444444444444444,
              "#bd3786"
             ],
             [
              0.5555555555555556,
              "#d8576b"
             ],
             [
              0.6666666666666666,
              "#ed7953"
             ],
             [
              0.7777777777777778,
              "#fb9f3a"
             ],
             [
              0.8888888888888888,
              "#fdca26"
             ],
             [
              1,
              "#f0f921"
             ]
            ],
            "type": "heatmapgl"
           }
          ],
          "histogram": [
           {
            "marker": {
             "pattern": {
              "fillmode": "overlay",
              "size": 10,
              "solidity": 0.2
             }
            },
            "type": "histogram"
           }
          ],
          "histogram2d": [
           {
            "colorbar": {
             "outlinewidth": 0,
             "ticks": ""
            },
            "colorscale": [
             [
              0,
              "#0d0887"
             ],
             [
              0.1111111111111111,
              "#46039f"
             ],
             [
              0.2222222222222222,
              "#7201a8"
             ],
             [
              0.3333333333333333,
              "#9c179e"
             ],
             [
              0.4444444444444444,
              "#bd3786"
             ],
             [
              0.5555555555555556,
              "#d8576b"
             ],
             [
              0.6666666666666666,
              "#ed7953"
             ],
             [
              0.7777777777777778,
              "#fb9f3a"
             ],
             [
              0.8888888888888888,
              "#fdca26"
             ],
             [
              1,
              "#f0f921"
             ]
            ],
            "type": "histogram2d"
           }
          ],
          "histogram2dcontour": [
           {
            "colorbar": {
             "outlinewidth": 0,
             "ticks": ""
            },
            "colorscale": [
             [
              0,
              "#0d0887"
             ],
             [
              0.1111111111111111,
              "#46039f"
             ],
             [
              0.2222222222222222,
              "#7201a8"
             ],
             [
              0.3333333333333333,
              "#9c179e"
             ],
             [
              0.4444444444444444,
              "#bd3786"
             ],
             [
              0.5555555555555556,
              "#d8576b"
             ],
             [
              0.6666666666666666,
              "#ed7953"
             ],
             [
              0.7777777777777778,
              "#fb9f3a"
             ],
             [
              0.8888888888888888,
              "#fdca26"
             ],
             [
              1,
              "#f0f921"
             ]
            ],
            "type": "histogram2dcontour"
           }
          ],
          "mesh3d": [
           {
            "colorbar": {
             "outlinewidth": 0,
             "ticks": ""
            },
            "type": "mesh3d"
           }
          ],
          "parcoords": [
           {
            "line": {
             "colorbar": {
              "outlinewidth": 0,
              "ticks": ""
             }
            },
            "type": "parcoords"
           }
          ],
          "pie": [
           {
            "automargin": true,
            "type": "pie"
           }
          ],
          "scatter": [
           {
            "fillpattern": {
             "fillmode": "overlay",
             "size": 10,
             "solidity": 0.2
            },
            "type": "scatter"
           }
          ],
          "scatter3d": [
           {
            "line": {
             "colorbar": {
              "outlinewidth": 0,
              "ticks": ""
             }
            },
            "marker": {
             "colorbar": {
              "outlinewidth": 0,
              "ticks": ""
             }
            },
            "type": "scatter3d"
           }
          ],
          "scattercarpet": [
           {
            "marker": {
             "colorbar": {
              "outlinewidth": 0,
              "ticks": ""
             }
            },
            "type": "scattercarpet"
           }
          ],
          "scattergeo": [
           {
            "marker": {
             "colorbar": {
              "outlinewidth": 0,
              "ticks": ""
             }
            },
            "type": "scattergeo"
           }
          ],
          "scattergl": [
           {
            "marker": {
             "colorbar": {
              "outlinewidth": 0,
              "ticks": ""
             }
            },
            "type": "scattergl"
           }
          ],
          "scattermapbox": [
           {
            "marker": {
             "colorbar": {
              "outlinewidth": 0,
              "ticks": ""
             }
            },
            "type": "scattermapbox"
           }
          ],
          "scatterpolar": [
           {
            "marker": {
             "colorbar": {
              "outlinewidth": 0,
              "ticks": ""
             }
            },
            "type": "scatterpolar"
           }
          ],
          "scatterpolargl": [
           {
            "marker": {
             "colorbar": {
              "outlinewidth": 0,
              "ticks": ""
             }
            },
            "type": "scatterpolargl"
           }
          ],
          "scatterternary": [
           {
            "marker": {
             "colorbar": {
              "outlinewidth": 0,
              "ticks": ""
             }
            },
            "type": "scatterternary"
           }
          ],
          "surface": [
           {
            "colorbar": {
             "outlinewidth": 0,
             "ticks": ""
            },
            "colorscale": [
             [
              0,
              "#0d0887"
             ],
             [
              0.1111111111111111,
              "#46039f"
             ],
             [
              0.2222222222222222,
              "#7201a8"
             ],
             [
              0.3333333333333333,
              "#9c179e"
             ],
             [
              0.4444444444444444,
              "#bd3786"
             ],
             [
              0.5555555555555556,
              "#d8576b"
             ],
             [
              0.6666666666666666,
              "#ed7953"
             ],
             [
              0.7777777777777778,
              "#fb9f3a"
             ],
             [
              0.8888888888888888,
              "#fdca26"
             ],
             [
              1,
              "#f0f921"
             ]
            ],
            "type": "surface"
           }
          ],
          "table": [
           {
            "cells": {
             "fill": {
              "color": "#EBF0F8"
             },
             "line": {
              "color": "white"
             }
            },
            "header": {
             "fill": {
              "color": "#C8D4E3"
             },
             "line": {
              "color": "white"
             }
            },
            "type": "table"
           }
          ]
         },
         "layout": {
          "annotationdefaults": {
           "arrowcolor": "#2a3f5f",
           "arrowhead": 0,
           "arrowwidth": 1
          },
          "autotypenumbers": "strict",
          "coloraxis": {
           "colorbar": {
            "outlinewidth": 0,
            "ticks": ""
           }
          },
          "colorscale": {
           "diverging": [
            [
             0,
             "#8e0152"
            ],
            [
             0.1,
             "#c51b7d"
            ],
            [
             0.2,
             "#de77ae"
            ],
            [
             0.3,
             "#f1b6da"
            ],
            [
             0.4,
             "#fde0ef"
            ],
            [
             0.5,
             "#f7f7f7"
            ],
            [
             0.6,
             "#e6f5d0"
            ],
            [
             0.7,
             "#b8e186"
            ],
            [
             0.8,
             "#7fbc41"
            ],
            [
             0.9,
             "#4d9221"
            ],
            [
             1,
             "#276419"
            ]
           ],
           "sequential": [
            [
             0,
             "#0d0887"
            ],
            [
             0.1111111111111111,
             "#46039f"
            ],
            [
             0.2222222222222222,
             "#7201a8"
            ],
            [
             0.3333333333333333,
             "#9c179e"
            ],
            [
             0.4444444444444444,
             "#bd3786"
            ],
            [
             0.5555555555555556,
             "#d8576b"
            ],
            [
             0.6666666666666666,
             "#ed7953"
            ],
            [
             0.7777777777777778,
             "#fb9f3a"
            ],
            [
             0.8888888888888888,
             "#fdca26"
            ],
            [
             1,
             "#f0f921"
            ]
           ],
           "sequentialminus": [
            [
             0,
             "#0d0887"
            ],
            [
             0.1111111111111111,
             "#46039f"
            ],
            [
             0.2222222222222222,
             "#7201a8"
            ],
            [
             0.3333333333333333,
             "#9c179e"
            ],
            [
             0.4444444444444444,
             "#bd3786"
            ],
            [
             0.5555555555555556,
             "#d8576b"
            ],
            [
             0.6666666666666666,
             "#ed7953"
            ],
            [
             0.7777777777777778,
             "#fb9f3a"
            ],
            [
             0.8888888888888888,
             "#fdca26"
            ],
            [
             1,
             "#f0f921"
            ]
           ]
          },
          "colorway": [
           "#636efa",
           "#EF553B",
           "#00cc96",
           "#ab63fa",
           "#FFA15A",
           "#19d3f3",
           "#FF6692",
           "#B6E880",
           "#FF97FF",
           "#FECB52"
          ],
          "font": {
           "color": "#2a3f5f"
          },
          "geo": {
           "bgcolor": "white",
           "lakecolor": "white",
           "landcolor": "#E5ECF6",
           "showlakes": true,
           "showland": true,
           "subunitcolor": "white"
          },
          "hoverlabel": {
           "align": "left"
          },
          "hovermode": "closest",
          "mapbox": {
           "style": "light"
          },
          "paper_bgcolor": "white",
          "plot_bgcolor": "#E5ECF6",
          "polar": {
           "angularaxis": {
            "gridcolor": "white",
            "linecolor": "white",
            "ticks": ""
           },
           "bgcolor": "#E5ECF6",
           "radialaxis": {
            "gridcolor": "white",
            "linecolor": "white",
            "ticks": ""
           }
          },
          "scene": {
           "xaxis": {
            "backgroundcolor": "#E5ECF6",
            "gridcolor": "white",
            "gridwidth": 2,
            "linecolor": "white",
            "showbackground": true,
            "ticks": "",
            "zerolinecolor": "white"
           },
           "yaxis": {
            "backgroundcolor": "#E5ECF6",
            "gridcolor": "white",
            "gridwidth": 2,
            "linecolor": "white",
            "showbackground": true,
            "ticks": "",
            "zerolinecolor": "white"
           },
           "zaxis": {
            "backgroundcolor": "#E5ECF6",
            "gridcolor": "white",
            "gridwidth": 2,
            "linecolor": "white",
            "showbackground": true,
            "ticks": "",
            "zerolinecolor": "white"
           }
          },
          "shapedefaults": {
           "line": {
            "color": "#2a3f5f"
           }
          },
          "ternary": {
           "aaxis": {
            "gridcolor": "white",
            "linecolor": "white",
            "ticks": ""
           },
           "baxis": {
            "gridcolor": "white",
            "linecolor": "white",
            "ticks": ""
           },
           "bgcolor": "#E5ECF6",
           "caxis": {
            "gridcolor": "white",
            "linecolor": "white",
            "ticks": ""
           }
          },
          "title": {
           "x": 0.05
          },
          "xaxis": {
           "automargin": true,
           "gridcolor": "white",
           "linecolor": "white",
           "ticks": "",
           "title": {
            "standoff": 15
           },
           "zerolinecolor": "white",
           "zerolinewidth": 2
          },
          "yaxis": {
           "automargin": true,
           "gridcolor": "white",
           "linecolor": "white",
           "ticks": "",
           "title": {
            "standoff": 15
           },
           "zerolinecolor": "white",
           "zerolinewidth": 2
          }
         }
        },
        "xaxis": {
         "autorange": true,
         "range": [
          0,
          25228800
         ],
         "type": "linear"
        },
        "yaxis": {
         "autorange": true,
         "range": [
          179.84,
          259.04
         ],
         "type": "linear"
        }
       }
      },
      "image/png": "[encoded data removed]"
     },
     "metadata": {},
     "output_type": "display_data"
    }
   ],
   "source": [
    "import pandas as pd\n",
    "import numpy as np\n",
    "import plotly.graph_objects as go\n",
    "\n",
    "data1 = pd.read_csv('DataSet1_3.csv', sep = ',')\n",
    "data2 = pd.read_csv('DataSet1_4.csv', sep = ',')\n",
    "\n",
    "data3 = pd.read_csv('DataSet3_1.csv', sep = ',')\n",
    "data4 = pd.read_csv('DataSet3_2.csv', sep = ';')\n",
    "\n",
    "data1[[\"Date\"]] = data1[[\"Date\"]].apply(pd.to_datetime)\n",
    "data1['Date'] =   (data1['Date']).astype(np.int64)/1000000000 #нс -> c\n",
    "\n",
    "start_idx = 100\n",
    "end_idx = 300\n",
    "\n",
    "# преобразование в отсчет в секундах начиная от 100го индекса\n",
    "x = data1['Date'][start_idx:end_idx].to_numpy() - data1['Date'][start_idx]\n",
    "y =  data1['Close'][start_idx:end_idx].to_numpy()\n",
    "\n",
    "n = round(0.8*(end_idx - start_idx))\n",
    "\n",
    "train_x = x[0:n]\n",
    "train_y = y[0:n]\n",
    "\n",
    "test_x = x[n:]\n",
    "test_y = y[n:]\n",
    "\n",
    "\n",
    "fig = go.Figure()\n",
    "\n",
    "fig.add_trace(go.Scatter(\n",
    "                    x=train_x,\n",
    "                    y=train_y,\n",
    "                    line=dict(color='green', width=2),\n",
    "                    name='Данные для обучения',\n",
    "                   )\n",
    ")\n",
    "fig.add_trace(go.Scatter(\n",
    "                    x=test_x,\n",
    "                    y=test_y,\n",
    "                    line=dict(color='red', width=2),\n",
    "                    name='Данные для верификации',\n",
    "                    )\n",
    ")\n",
    "\n",
    "fig.show()\n"
   ]
  },
  {
   "cell_type": "markdown",
   "metadata": {},
   "source": [
    "### МНК"
   ]
  },
  {
   "cell_type": "code",
   "execution_count": 83,
   "metadata": {},
   "outputs": [
    {
     "data": {
      "application/vnd.plotly.v1+json": {
       "config": {
        "plotlyServerURL": "https://plot.ly"
       },
       "data": [
        {
         "line": {
          "color": "green",
          "width": 2
         },
         "name": "Данные для обучения",
         "type": "scatter",
         "x": [
          0,
          345600,
          432000,
          518400,
          604800,
          864000,
          950400,
          1036800,
          1123200,
          1209600,
          1468800,
          1555200,
          1641600,
          1728000,
          1814400,
          2073600,
          2160000,
          2246400,
          2332800,
          2419200,
          2678400,
          2764800,
          2851200,
          2937600,
          3024000,
          3283200,
          3456000,
          3542400,
          3628800,
          3888000,
          3974400,
          4060800,
          4147200,
          4233600,
          4492800,
          4579200,
          4665600,
          4752000,
          4838400,
          5097600,
          5184000,
          5270400,
          5356800,
          5443200,
          5702400,
          5788800,
          5875200,
          5961600,
          6048000,
          6307200,
          6393600,
          6480000,
          6566400,
          6652800,
          6912000,
          6998400,
          7084800,
          7171200,
          7257600,
          7516800,
          7603200,
          7689600,
          7776000,
          7862400,
          8121600,
          8208000,
          8294400,
          8380800,
          8467200,
          8812800,
          8899200,
          8985600,
          9072000,
          9331200,
          9417600,
          9504000,
          9590400,
          9676800,
          9936000,
          10022400,
          10108800,
          10195200,
          10281600,
          10540800,
          10627200,
          10713600,
          10800000,
          10886400,
          11145600,
          11232000,
          11318400,
          11404800,
          11491200,
          11750400,
          11836800,
          11923200,
          12009600,
          12096000,
          12355200,
          12441600,
          12528000,
          12614400,
          12700800,
          12960000,
          13046400,
          13132800,
          13219200,
          13305600,
          13564800,
          13651200,
          13737600,
          13824000,
          13910400,
          14169600,
          14256000,
          14342400,
          14428800,
          14515200,
          14774400,
          14860800,
          14947200,
          15033600,
          15120000,
          15379200,
          15465600,
          15552000,
          15724800,
          15984000,
          16070400,
          16156800,
          16243200,
          16329600,
          16588800,
          16675200,
          16761600,
          16848000,
          16934400,
          17193600,
          17280000,
          17366400,
          17452800,
          17539200,
          17798400,
          17884800,
          17971200,
          18057600,
          18144000,
          18489600,
          18576000,
          18662400,
          18748800,
          19180800,
          19267200,
          19353600,
          19612800,
          19699200,
          19785600,
          19872000,
          19958400,
          20304000
         ],
         "y": [
          190.87,
          186.16,
          186.1,
          191.5,
          189.91,
          187.41,
          195.19,
          193.45,
          196.85,
          193.48,
          190.96,
          193.46,
          192.39,
          195.7,
          195.55,
          194.26,
          193.78,
          201.27,
          200.17,
          202.63,
          202.31,
          201.36,
          203.26,
          209.11,
          209.87,
          211.81,
          210.94,
          211.81,
          210.44,
          209.31,
          212.49,
          208.83,
          204.62,
          201.95,
          204.15,
          201.73,
          199.7,
          193.75,
          195.25,
          195.65,
          194.87,
          192.94,
          191.39,
          194.25,
          193.49,
          187.94,
          183.8,
          187.88,
          187.11,
          189.16,
          190.69,
          188.66,
          187.29,
          184.43,
          184.9,
          190.68,
          194.05,
          193.09,
          191.87,
          188.84,
          189.33,
          186.9,
          187.05,
          186.82,
          190.67,
          189.66,
          190.57,
          189.45,
          189.49,
          192.37,
          190.26,
          189.43,
          189.11,
          192.24,
          196.15,
          203.49,
          202.19,
          205.14,
          207.55,
          202.11,
          198.7,
          203.63,
          202.09,
          202.19,
          203.64,
          201.66,
          201.99,
          201.15,
          200.92,
          202.22,
          208.06,
          206.11,
          210.46,
          214.71,
          213.54,
          213.46,
          213.93,
          213.86,
          211.09,
          210.53,
          209.86,
          213.24,
          230.06,
          240.63,
          236.89,
          243.54,
          242.79,
          237.84,
          238.52,
          238.43,
          233.98,
          235.19,
          236.13,
          238.71,
          236.52,
          237.74,
          236.55,
          237.01,
          240.76,
          244.89,
          246.21,
          248.2,
          249.64,
          247.77,
          255.08,
          254.26,
          252.8,
          242.62,
          244.99,
          242.57,
          242.65,
          240.64,
          242.67,
          243.74,
          244.6,
          241.56,
          242.3,
          242.21,
          241.13,
          239.73,
          241.3,
          240.39,
          231.63,
          234.55,
          231.68,
          228.33,
          228.02,
          228.99,
          234.25,
          231.51,
          230.47,
          234.03,
          241.87,
          243.84,
          242.03,
          242.99,
          244.97,
          250.11,
          252.75,
          252.39
         ]
        },
        {
         "line": {
          "color": "red",
          "width": 2
         },
         "name": "МНК",
         "type": "scatter",
         "x": [
          0,
          345600,
          432000,
          518400,
          604800,
          864000,
          950400,
          1036800,
          1123200,
          1209600,
          1468800,
          1555200,
          1641600,
          1728000,
          1814400,
          2073600,
          2160000,
          2246400,
          2332800,
          2419200,
          2678400,
          2764800,
          2851200,
          2937600,
          3024000,
          3283200,
          3456000,
          3542400,
          3628800,
          3888000,
          3974400,
          4060800,
          4147200,
          4233600,
          4492800,
          4579200,
          4665600,
          4752000,
          4838400,
          5097600,
          5184000,
          5270400,
          5356800,
          5443200,
          5702400,
          5788800,
          5875200,
          5961600,
          6048000,
          6307200,
          6393600,
          6480000,
          6566400,
          6652800,
          6912000,
          6998400,
          7084800,
          7171200,
          7257600,
          7516800,
          7603200,
          7689600,
          7776000,
          7862400,
          8121600,
          8208000,
          8294400,
          8380800,
          8467200,
          8812800,
          8899200,
          8985600,
          9072000,
          9331200,
          9417600,
          9504000,
          9590400,
          9676800,
          9936000,
          10022400,
          10108800,
          10195200,
          10281600,
          10540800,
          10627200,
          10713600,
          10800000,
          10886400,
          11145600,
          11232000,
          11318400,
          11404800,
          11491200,
          11750400,
          11836800,
          11923200,
          12009600,
          12096000,
          12355200,
          12441600,
          12528000,
          12614400,
          12700800,
          12960000,
          13046400,
          13132800,
          13219200,
          13305600,
          13564800,
          13651200,
          13737600,
          13824000,
          13910400,
          14169600,
          14256000,
          14342400,
          14428800,
          14515200,
          14774400,
          14860800,
          14947200,
          15033600,
          15120000,
          15379200,
          15465600,
          15552000,
          15724800,
          15984000,
          16070400,
          16156800,
          16243200,
          16329600,
          16588800,
          16675200,
          16761600,
          16848000,
          16934400,
          17193600,
          17280000,
          17366400,
          17452800,
          17539200,
          17798400,
          17884800,
          17971200,
          18057600,
          18144000,
          18489600,
          18576000,
          18662400,
          18748800,
          19180800,
          19267200,
          19353600,
          19612800,
          19699200,
          19785600,
          19872000,
          19958400,
          20304000
         ],
         "y": [
          193.25061303574947,
          193.18446031900953,
          193.17427246735787,
          193.16662474671952,
          193.1615171570945,
          193.1614351742994,
          193.16648810872772,
          193.17408117416934,
          193.1842143706243,
          193.19688769809258,
          193.25014846657737,
          193.27298231809897,
          193.29835630063388,
          193.32627041418212,
          193.35672465874367,
          193.46332817850836,
          193.50394294712325,
          193.54709784675146,
          193.59279287739298,
          193.64102803904782,
          193.80097431009239,
          193.85936999580056,
          193.92030581252206,
          193.98378176025687,
          194.04979783900504,
          194.26308686132944,
          194.4179801979457,
          194.49923706277383,
          194.58303405861525,
          194.84966583221956,
          194.94362335211432,
          195.0401210030224,
          195.1391587849438,
          195.24073669787853,
          195.5607112227627,
          195.67244965975075,
          195.78672822775212,
          195.90354692676684,
          196.02290575679484,
          196.3962230329589,
          196.52574238704022,
          196.65780187213488,
          196.7924014882429,
          196.9295412353642,
          197.35620126280813,
          197.50350153398276,
          197.6533419361707,
          197.805722469372,
          197.9606431335866,
          198.4406459123104,
          198.60572710057832,
          198.77334841985956,
          198.94350987015414,
          199.11621145146202,
          199.6495569814657,
          199.83241908682692,
          200.01782132320145,
          200.20576369058932,
          200.39624618899052,
          200.98293447027405,
          201.18357749272855,
          201.3867606461964,
          201.59248393067753,
          201.80074734617202,
          202.44077837873544,
          202.65920231828323,
          202.88016638884434,
          203.1036705904188,
          203.32971492300658,
          204.25929356349096,
          204.49803855114536,
          204.7393236698131,
          204.98314891949417,
          205.72986545461734,
          205.9838512283517,
          206.24037713309943,
          206.49944316886044,
          206.7610493356348,
          207.56110862203784,
          207.83287531286553,
          208.1071821347065,
          208.38402908756083,
          208.66341617142848,
          209.5168182091114,
          209.80636581703237,
          210.09845355596664,
          210.39308142591426,
          210.6902494268752,
          211.59699421583798,
          211.90432274085225,
          212.2141913968798,
          212.52660018392072,
          212.84154910197495,
          213.8016366422176,
          214.12674608432516,
          214.454395657446,
          214.78458536158024,
          215.11731519672776,
          216.13074548825028,
          216.47363584745113,
          216.81906633766528,
          217.16703695889277,
          217.51754771113357,
          218.584320753936,
          218.9449920302301,
          219.30820343753757,
          219.67395497585835,
          220.04224664519245,
          221.16236243927474,
          221.54081463266218,
          221.92180695706293,
          222.30533941247697,
          222.69141199890439,
          223.86487054426655,
          224.26110365474725,
          224.6598768962413,
          225.06119026874865,
          225.46504377226933,
          226.69184506891136,
          227.10585909648537,
          227.5224132550727,
          227.94150754467336,
          228.36314196528733,
          229.64328601320923,
          230.07508095787654,
          230.50941603355716,
          231.38570657795836,
          232.71919337716014,
          233.16876923892073,
          233.62088523169464,
          234.07554135548187,
          234.53273761028242,
          235.9195671607641,
          236.386923939618,
          236.8568208494852,
          237.3292578903657,
          237.80423506225958,
          239.24440736402107,
          239.72954505996825,
          240.21722288692877,
          240.70744084490258,
          241.20019893388974,
          242.69371398693113,
          243.19663259997157,
          243.70209134402535,
          244.21009021909248,
          244.7206292251729,
          246.78818655962795,
          247.31142622077502,
          247.83720601293544,
          248.36552593610915,
          251.04522751717772,
          251.5887882264314,
          252.13488906669843,
          253.78843237357944,
          254.3446937378998,
          254.90349523323346,
          255.46483685958043,
          256.02871861694075,
          258.3096469565153
         ]
        }
       ],
       "layout": {
        "template": {
         "data": {
          "bar": [
           {
            "error_x": {
             "color": "#2a3f5f"
            },
            "error_y": {
             "color": "#2a3f5f"
            },
            "marker": {
             "line": {
              "color": "#E5ECF6",
              "width": 0.5
             },
             "pattern": {
              "fillmode": "overlay",
              "size": 10,
              "solidity": 0.2
             }
            },
            "type": "bar"
           }
          ],
          "barpolar": [
           {
            "marker": {
             "line": {
              "color": "#E5ECF6",
              "width": 0.5
             },
             "pattern": {
              "fillmode": "overlay",
              "size": 10,
              "solidity": 0.2
             }
            },
            "type": "barpolar"
           }
          ],
          "carpet": [
           {
            "aaxis": {
             "endlinecolor": "#2a3f5f",
             "gridcolor": "white",
             "linecolor": "white",
             "minorgridcolor": "white",
             "startlinecolor": "#2a3f5f"
            },
            "baxis": {
             "endlinecolor": "#2a3f5f",
             "gridcolor": "white",
             "linecolor": "white",
             "minorgridcolor": "white",
             "startlinecolor": "#2a3f5f"
            },
            "type": "carpet"
           }
          ],
          "choropleth": [
           {
            "colorbar": {
             "outlinewidth": 0,
             "ticks": ""
            },
            "type": "choropleth"
           }
          ],
          "contour": [
           {
            "colorbar": {
             "outlinewidth": 0,
             "ticks": ""
            },
            "colorscale": [
             [
              0,
              "#0d0887"
             ],
             [
              0.1111111111111111,
              "#46039f"
             ],
             [
              0.2222222222222222,
              "#7201a8"
             ],
             [
              0.3333333333333333,
              "#9c179e"
             ],
             [
              0.4444444444444444,
              "#bd3786"
             ],
             [
              0.5555555555555556,
              "#d8576b"
             ],
             [
              0.6666666666666666,
              "#ed7953"
             ],
             [
              0.7777777777777778,
              "#fb9f3a"
             ],
             [
              0.8888888888888888,
              "#fdca26"
             ],
             [
              1,
              "#f0f921"
             ]
            ],
            "type": "contour"
           }
          ],
          "contourcarpet": [
           {
            "colorbar": {
             "outlinewidth": 0,
             "ticks": ""
            },
            "type": "contourcarpet"
           }
          ],
          "heatmap": [
           {
            "colorbar": {
             "outlinewidth": 0,
             "ticks": ""
            },
            "colorscale": [
             [
              0,
              "#0d0887"
             ],
             [
              0.1111111111111111,
              "#46039f"
             ],
             [
              0.2222222222222222,
              "#7201a8"
             ],
             [
              0.3333333333333333,
              "#9c179e"
             ],
             [
              0.4444444444444444,
              "#bd3786"
             ],
             [
              0.5555555555555556,
              "#d8576b"
             ],
             [
              0.6666666666666666,
              "#ed7953"
             ],
             [
              0.7777777777777778,
              "#fb9f3a"
             ],
             [
              0.8888888888888888,
              "#fdca26"
             ],
             [
              1,
              "#f0f921"
             ]
            ],
            "type": "heatmap"
           }
          ],
          "heatmapgl": [
           {
            "colorbar": {
             "outlinewidth": 0,
             "ticks": ""
            },
            "colorscale": [
             [
              0,
              "#0d0887"
             ],
             [
              0.1111111111111111,
              "#46039f"
             ],
             [
              0.2222222222222222,
              "#7201a8"
             ],
             [
              0.3333333333333333,
              "#9c179e"
             ],
             [
              0.4444444444444444,
              "#bd3786"
             ],
             [
              0.5555555555555556,
              "#d8576b"
             ],
             [
              0.6666666666666666,
              "#ed7953"
             ],
             [
              0.7777777777777778,
              "#fb9f3a"
             ],
             [
              0.8888888888888888,
              "#fdca26"
             ],
             [
              1,
              "#f0f921"
             ]
            ],
            "type": "heatmapgl"
           }
          ],
          "histogram": [
           {
            "marker": {
             "pattern": {
              "fillmode": "overlay",
              "size": 10,
              "solidity": 0.2
             }
            },
            "type": "histogram"
           }
          ],
          "histogram2d": [
           {
            "colorbar": {
             "outlinewidth": 0,
             "ticks": ""
            },
            "colorscale": [
             [
              0,
              "#0d0887"
             ],
             [
              0.1111111111111111,
              "#46039f"
             ],
             [
              0.2222222222222222,
              "#7201a8"
             ],
             [
              0.3333333333333333,
              "#9c179e"
             ],
             [
              0.4444444444444444,
              "#bd3786"
             ],
             [
              0.5555555555555556,
              "#d8576b"
             ],
             [
              0.6666666666666666,
              "#ed7953"
             ],
             [
              0.7777777777777778,
              "#fb9f3a"
             ],
             [
              0.8888888888888888,
              "#fdca26"
             ],
             [
              1,
              "#f0f921"
             ]
            ],
            "type": "histogram2d"
           }
          ],
          "histogram2dcontour": [
           {
            "colorbar": {
             "outlinewidth": 0,
             "ticks": ""
            },
            "colorscale": [
             [
              0,
              "#0d0887"
             ],
             [
              0.1111111111111111,
              "#46039f"
             ],
             [
              0.2222222222222222,
              "#7201a8"
             ],
             [
              0.3333333333333333,
              "#9c179e"
             ],
             [
              0.4444444444444444,
              "#bd3786"
             ],
             [
              0.5555555555555556,
              "#d8576b"
             ],
             [
              0.6666666666666666,
              "#ed7953"
             ],
             [
              0.7777777777777778,
              "#fb9f3a"
             ],
             [
              0.8888888888888888,
              "#fdca26"
             ],
             [
              1,
              "#f0f921"
             ]
            ],
            "type": "histogram2dcontour"
           }
          ],
          "mesh3d": [
           {
            "colorbar": {
             "outlinewidth": 0,
             "ticks": ""
            },
            "type": "mesh3d"
           }
          ],
          "parcoords": [
           {
            "line": {
             "colorbar": {
              "outlinewidth": 0,
              "ticks": ""
             }
            },
            "type": "parcoords"
           }
          ],
          "pie": [
           {
            "automargin": true,
            "type": "pie"
           }
          ],
          "scatter": [
           {
            "fillpattern": {
             "fillmode": "overlay",
             "size": 10,
             "solidity": 0.2
            },
            "type": "scatter"
           }
          ],
          "scatter3d": [
           {
            "line": {
             "colorbar": {
              "outlinewidth": 0,
              "ticks": ""
             }
            },
            "marker": {
             "colorbar": {
              "outlinewidth": 0,
              "ticks": ""
             }
            },
            "type": "scatter3d"
           }
          ],
          "scattercarpet": [
           {
            "marker": {
             "colorbar": {
              "outlinewidth": 0,
              "ticks": ""
             }
            },
            "type": "scattercarpet"
           }
          ],
          "scattergeo": [
           {
            "marker": {
             "colorbar": {
              "outlinewidth": 0,
              "ticks": ""
             }
            },
            "type": "scattergeo"
           }
          ],
          "scattergl": [
           {
            "marker": {
             "colorbar": {
              "outlinewidth": 0,
              "ticks": ""
             }
            },
            "type": "scattergl"
           }
          ],
          "scattermapbox": [
           {
            "marker": {
             "colorbar": {
              "outlinewidth": 0,
              "ticks": ""
             }
            },
            "type": "scattermapbox"
           }
          ],
          "scatterpolar": [
           {
            "marker": {
             "colorbar": {
              "outlinewidth": 0,
              "ticks": ""
             }
            },
            "type": "scatterpolar"
           }
          ],
          "scatterpolargl": [
           {
            "marker": {
             "colorbar": {
              "outlinewidth": 0,
              "ticks": ""
             }
            },
            "type": "scatterpolargl"
           }
          ],
          "scatterternary": [
           {
            "marker": {
             "colorbar": {
              "outlinewidth": 0,
              "ticks": ""
             }
            },
            "type": "scatterternary"
           }
          ],
          "surface": [
           {
            "colorbar": {
             "outlinewidth": 0,
             "ticks": ""
            },
            "colorscale": [
             [
              0,
              "#0d0887"
             ],
             [
              0.1111111111111111,
              "#46039f"
             ],
             [
              0.2222222222222222,
              "#7201a8"
             ],
             [
              0.3333333333333333,
              "#9c179e"
             ],
             [
              0.4444444444444444,
              "#bd3786"
             ],
             [
              0.5555555555555556,
              "#d8576b"
             ],
             [
              0.6666666666666666,
              "#ed7953"
             ],
             [
              0.7777777777777778,
              "#fb9f3a"
             ],
             [
              0.8888888888888888,
              "#fdca26"
             ],
             [
              1,
              "#f0f921"
             ]
            ],
            "type": "surface"
           }
          ],
          "table": [
           {
            "cells": {
             "fill": {
              "color": "#EBF0F8"
             },
             "line": {
              "color": "white"
             }
            },
            "header": {
             "fill": {
              "color": "#C8D4E3"
             },
             "line": {
              "color": "white"
             }
            },
            "type": "table"
           }
          ]
         },
         "layout": {
          "annotationdefaults": {
           "arrowcolor": "#2a3f5f",
           "arrowhead": 0,
           "arrowwidth": 1
          },
          "autotypenumbers": "strict",
          "coloraxis": {
           "colorbar": {
            "outlinewidth": 0,
            "ticks": ""
           }
          },
          "colorscale": {
           "diverging": [
            [
             0,
             "#8e0152"
            ],
            [
             0.1,
             "#c51b7d"
            ],
            [
             0.2,
             "#de77ae"
            ],
            [
             0.3,
             "#f1b6da"
            ],
            [
             0.4,
             "#fde0ef"
            ],
            [
             0.5,
             "#f7f7f7"
            ],
            [
             0.6,
             "#e6f5d0"
            ],
            [
             0.7,
             "#b8e186"
            ],
            [
             0.8,
             "#7fbc41"
            ],
            [
             0.9,
             "#4d9221"
            ],
            [
             1,
             "#276419"
            ]
           ],
           "sequential": [
            [
             0,
             "#0d0887"
            ],
            [
             0.1111111111111111,
             "#46039f"
            ],
            [
             0.2222222222222222,
             "#7201a8"
            ],
            [
             0.3333333333333333,
             "#9c179e"
            ],
            [
             0.4444444444444444,
             "#bd3786"
            ],
            [
             0.5555555555555556,
             "#d8576b"
            ],
            [
             0.6666666666666666,
             "#ed7953"
            ],
            [
             0.7777777777777778,
             "#fb9f3a"
            ],
            [
             0.8888888888888888,
             "#fdca26"
            ],
            [
             1,
             "#f0f921"
            ]
           ],
           "sequentialminus": [
            [
             0,
             "#0d0887"
            ],
            [
             0.1111111111111111,
             "#46039f"
            ],
            [
             0.2222222222222222,
             "#7201a8"
            ],
            [
             0.3333333333333333,
             "#9c179e"
            ],
            [
             0.4444444444444444,
             "#bd3786"
            ],
            [
             0.5555555555555556,
             "#d8576b"
            ],
            [
             0.6666666666666666,
             "#ed7953"
            ],
            [
             0.7777777777777778,
             "#fb9f3a"
            ],
            [
             0.8888888888888888,
             "#fdca26"
            ],
            [
             1,
             "#f0f921"
            ]
           ]
          },
          "colorway": [
           "#636efa",
           "#EF553B",
           "#00cc96",
           "#ab63fa",
           "#FFA15A",
           "#19d3f3",
           "#FF6692",
           "#B6E880",
           "#FF97FF",
           "#FECB52"
          ],
          "font": {
           "color": "#2a3f5f"
          },
          "geo": {
           "bgcolor": "white",
           "lakecolor": "white",
           "landcolor": "#E5ECF6",
           "showlakes": true,
           "showland": true,
           "subunitcolor": "white"
          },
          "hoverlabel": {
           "align": "left"
          },
          "hovermode": "closest",
          "mapbox": {
           "style": "light"
          },
          "paper_bgcolor": "white",
          "plot_bgcolor": "#E5ECF6",
          "polar": {
           "angularaxis": {
            "gridcolor": "white",
            "linecolor": "white",
            "ticks": ""
           },
           "bgcolor": "#E5ECF6",
           "radialaxis": {
            "gridcolor": "white",
            "linecolor": "white",
            "ticks": ""
           }
          },
          "scene": {
           "xaxis": {
            "backgroundcolor": "#E5ECF6",
            "gridcolor": "white",
            "gridwidth": 2,
            "linecolor": "white",
            "showbackground": true,
            "ticks": "",
            "zerolinecolor": "white"
           },
           "yaxis": {
            "backgroundcolor": "#E5ECF6",
            "gridcolor": "white",
            "gridwidth": 2,
            "linecolor": "white",
            "showbackground": true,
            "ticks": "",
            "zerolinecolor": "white"
           },
           "zaxis": {
            "backgroundcolor": "#E5ECF6",
            "gridcolor": "white",
            "gridwidth": 2,
            "linecolor": "white",
            "showbackground": true,
            "ticks": "",
            "zerolinecolor": "white"
           }
          },
          "shapedefaults": {
           "line": {
            "color": "#2a3f5f"
           }
          },
          "ternary": {
           "aaxis": {
            "gridcolor": "white",
            "linecolor": "white",
            "ticks": ""
           },
           "baxis": {
            "gridcolor": "white",
            "linecolor": "white",
            "ticks": ""
           },
           "bgcolor": "#E5ECF6",
           "caxis": {
            "gridcolor": "white",
            "linecolor": "white",
            "ticks": ""
           }
          },
          "title": {
           "x": 0.05
          },
          "xaxis": {
           "automargin": true,
           "gridcolor": "white",
           "linecolor": "white",
           "ticks": "",
           "title": {
            "standoff": 15
           },
           "zerolinecolor": "white",
           "zerolinewidth": 2
          },
          "yaxis": {
           "automargin": true,
           "gridcolor": "white",
           "linecolor": "white",
           "ticks": "",
           "title": {
            "standoff": 15
           },
           "zerolinecolor": "white",
           "zerolinewidth": 2
          }
         }
        }
       }
      }
     },
     "metadata": {},
     "output_type": "display_data"
    }
   ],
   "source": [
    "from scipy.optimize import curve_fit \n",
    "\n",
    "def mapping_func(x, c1 , c2, c3): \n",
    "    return c1 * x**2 + c2 * x + c3 \n",
    "\n",
    "args, covar = curve_fit(mapping_func, train_x, train_y) \n",
    "\n",
    "c1, c2, c3 = args[0], args[1], args[2]\n",
    "\n",
    "res_y  = c1 * train_x**2 + c2 * train_x + c3 \n",
    "\n",
    "fig = go.Figure()\n",
    "\n",
    "fig.add_trace(go.Scatter(\n",
    "                    x=train_x,\n",
    "                    y=train_y,\n",
    "                    line=dict(color='green', width=2),\n",
    "                    name='Данные для обучения',\n",
    "                   )\n",
    ")\n",
    "fig.add_trace(go.Scatter(\n",
    "                    x=train_x,\n",
    "                    y=res_y,\n",
    "                    line=dict(color='red', width=2),\n",
    "                    name='МНК',\n",
    "                    )\n",
    ")\n",
    "fig.show()\n"
   ]
  },
  {
   "cell_type": "markdown",
   "metadata": {},
   "source": [
    "### Регрессионная функция для прогнозного участка"
   ]
  },
  {
   "cell_type": "code",
   "execution_count": 82,
   "metadata": {},
   "outputs": [
    {
     "data": {
      "application/vnd.plotly.v1+json": {
       "config": {
        "plotlyServerURL": "https://plot.ly"
       },
       "data": [
        {
         "line": {
          "color": "green",
          "width": 2
         },
         "name": "Тестовые данные",
         "type": "scatter",
         "x": [
          20390400,
          20476800,
          20563200,
          20822400,
          20908800,
          20995200,
          21081600,
          21168000,
          21427200,
          21513600,
          21600000,
          21686400,
          21772800,
          22032000,
          22118400,
          22204800,
          22291200,
          22377600,
          22636800,
          22723200,
          22809600,
          22896000,
          22982400,
          23328000,
          23414400,
          23500800,
          23587200,
          23846400,
          23932800,
          24019200,
          24105600,
          24192000,
          24451200,
          24537600,
          24624000,
          24710400,
          24796800,
          25056000,
          25142400,
          25228800
         ],
         "y": [
          248.89,
          244.16,
          245.12,
          240.66,
          239.76,
          249.78,
          244.29,
          248.17,
          246.48,
          247.41,
          251,
          241.12,
          240.99,
          233.81,
          235.98,
          235.24,
          235.75,
          231.18,
          229.37,
          229.78,
          233.2,
          230.97,
          235.2,
          236.29,
          238.17,
          238.16,
          235.55,
          232.7,
          224.61,
          224.95,
          224.34,
          219.56,
          220.69,
          229,
          228.05,
          227.59,
          226.71,
          227.6,
          221.74,
          224.22
         ]
        },
        {
         "line": {
          "color": "red",
          "width": 2
         },
         "name": "МНК",
         "type": "scatter",
         "x": [
          20390400,
          20476800,
          20563200,
          20822400,
          20908800,
          20995200,
          21081600,
          21168000,
          21427200,
          21513600,
          21600000,
          21686400,
          21772800,
          22032000,
          22118400,
          22204800,
          22291200,
          22377600,
          22636800,
          22723200,
          22809600,
          22896000,
          22982400,
          23328000,
          23414400,
          23500800,
          23587200,
          23846400,
          23932800,
          24019200,
          24105600,
          24192000,
          24451200,
          24537600,
          24624000,
          24710400,
          24796800,
          25056000,
          25142400,
          25228800
         ],
         "y": [
          258.8862293689422,
          259.4653519123825,
          260.0470145868361,
          261.8072433962769,
          262.3990665947838,
          262.99342992430405,
          263.5903333848376,
          264.1897769763845,
          266.0033485371052,
          266.61295265270536,
          267.2250968993189,
          267.83978127694576,
          268.4570057855859,
          270.3239200975865,
          270.95130513028,
          271.5812302939868,
          272.21369558870697,
          272.8487010144404,
          274.7689580777208,
          275.4141240275076,
          276.06183010830773,
          276.7120763201212,
          277.3648626629479,
          280.0014093443883,
          280.6668963422817,
          281.3349234711884,
          282.0054907311085,
          284.0324332969486,
          284.713161080922,
          285.3964289959087,
          286.08223704190874,
          286.7705852189221,
          288.8508705360421,
          289.5493792371088,
          290.2504280691888,
          290.9540170322821,
          291.6601461263887,
          293.7937741947886,
          294.5100638129486,
          295.22889356212187
         ]
        }
       ],
       "layout": {
        "template": {
         "data": {
          "bar": [
           {
            "error_x": {
             "color": "#2a3f5f"
            },
            "error_y": {
             "color": "#2a3f5f"
            },
            "marker": {
             "line": {
              "color": "#E5ECF6",
              "width": 0.5
             },
             "pattern": {
              "fillmode": "overlay",
              "size": 10,
              "solidity": 0.2
             }
            },
            "type": "bar"
           }
          ],
          "barpolar": [
           {
            "marker": {
             "line": {
              "color": "#E5ECF6",
              "width": 0.5
             },
             "pattern": {
              "fillmode": "overlay",
              "size": 10,
              "solidity": 0.2
             }
            },
            "type": "barpolar"
           }
          ],
          "carpet": [
           {
            "aaxis": {
             "endlinecolor": "#2a3f5f",
             "gridcolor": "white",
             "linecolor": "white",
             "minorgridcolor": "white",
             "startlinecolor": "#2a3f5f"
            },
            "baxis": {
             "endlinecolor": "#2a3f5f",
             "gridcolor": "white",
             "linecolor": "white",
             "minorgridcolor": "white",
             "startlinecolor": "#2a3f5f"
            },
            "type": "carpet"
           }
          ],
          "choropleth": [
           {
            "colorbar": {
             "outlinewidth": 0,
             "ticks": ""
            },
            "type": "choropleth"
           }
          ],
          "contour": [
           {
            "colorbar": {
             "outlinewidth": 0,
             "ticks": ""
            },
            "colorscale": [
             [
              0,
              "#0d0887"
             ],
             [
              0.1111111111111111,
              "#46039f"
             ],
             [
              0.2222222222222222,
              "#7201a8"
             ],
             [
              0.3333333333333333,
              "#9c179e"
             ],
             [
              0.4444444444444444,
              "#bd3786"
             ],
             [
              0.5555555555555556,
              "#d8576b"
             ],
             [
              0.6666666666666666,
              "#ed7953"
             ],
             [
              0.7777777777777778,
              "#fb9f3a"
             ],
             [
              0.8888888888888888,
              "#fdca26"
             ],
             [
              1,
              "#f0f921"
             ]
            ],
            "type": "contour"
           }
          ],
          "contourcarpet": [
           {
            "colorbar": {
             "outlinewidth": 0,
             "ticks": ""
            },
            "type": "contourcarpet"
           }
          ],
          "heatmap": [
           {
            "colorbar": {
             "outlinewidth": 0,
             "ticks": ""
            },
            "colorscale": [
             [
              0,
              "#0d0887"
             ],
             [
              0.1111111111111111,
              "#46039f"
             ],
             [
              0.2222222222222222,
              "#7201a8"
             ],
             [
              0.3333333333333333,
              "#9c179e"
             ],
             [
              0.4444444444444444,
              "#bd3786"
             ],
             [
              0.5555555555555556,
              "#d8576b"
             ],
             [
              0.6666666666666666,
              "#ed7953"
             ],
             [
              0.7777777777777778,
              "#fb9f3a"
             ],
             [
              0.8888888888888888,
              "#fdca26"
             ],
             [
              1,
              "#f0f921"
             ]
            ],
            "type": "heatmap"
           }
          ],
          "heatmapgl": [
           {
            "colorbar": {
             "outlinewidth": 0,
             "ticks": ""
            },
            "colorscale": [
             [
              0,
              "#0d0887"
             ],
             [
              0.1111111111111111,
              "#46039f"
             ],
             [
              0.2222222222222222,
              "#7201a8"
             ],
             [
              0.3333333333333333,
              "#9c179e"
             ],
             [
              0.4444444444444444,
              "#bd3786"
             ],
             [
              0.5555555555555556,
              "#d8576b"
             ],
             [
              0.6666666666666666,
              "#ed7953"
             ],
             [
              0.7777777777777778,
              "#fb9f3a"
             ],
             [
              0.8888888888888888,
              "#fdca26"
             ],
             [
              1,
              "#f0f921"
             ]
            ],
            "type": "heatmapgl"
           }
          ],
          "histogram": [
           {
            "marker": {
             "pattern": {
              "fillmode": "overlay",
              "size": 10,
              "solidity": 0.2
             }
            },
            "type": "histogram"
           }
          ],
          "histogram2d": [
           {
            "colorbar": {
             "outlinewidth": 0,
             "ticks": ""
            },
            "colorscale": [
             [
              0,
              "#0d0887"
             ],
             [
              0.1111111111111111,
              "#46039f"
             ],
             [
              0.2222222222222222,
              "#7201a8"
             ],
             [
              0.3333333333333333,
              "#9c179e"
             ],
             [
              0.4444444444444444,
              "#bd3786"
             ],
             [
              0.5555555555555556,
              "#d8576b"
             ],
             [
              0.6666666666666666,
              "#ed7953"
             ],
             [
              0.7777777777777778,
              "#fb9f3a"
             ],
             [
              0.8888888888888888,
              "#fdca26"
             ],
             [
              1,
              "#f0f921"
             ]
            ],
            "type": "histogram2d"
           }
          ],
          "histogram2dcontour": [
           {
            "colorbar": {
             "outlinewidth": 0,
             "ticks": ""
            },
            "colorscale": [
             [
              0,
              "#0d0887"
             ],
             [
              0.1111111111111111,
              "#46039f"
             ],
             [
              0.2222222222222222,
              "#7201a8"
             ],
             [
              0.3333333333333333,
              "#9c179e"
             ],
             [
              0.4444444444444444,
              "#bd3786"
             ],
             [
              0.5555555555555556,
              "#d8576b"
             ],
             [
              0.6666666666666666,
              "#ed7953"
             ],
             [
              0.7777777777777778,
              "#fb9f3a"
             ],
             [
              0.8888888888888888,
              "#fdca26"
             ],
             [
              1,
              "#f0f921"
             ]
            ],
            "type": "histogram2dcontour"
           }
          ],
          "mesh3d": [
           {
            "colorbar": {
             "outlinewidth": 0,
             "ticks": ""
            },
            "type": "mesh3d"
           }
          ],
          "parcoords": [
           {
            "line": {
             "colorbar": {
              "outlinewidth": 0,
              "ticks": ""
             }
            },
            "type": "parcoords"
           }
          ],
          "pie": [
           {
            "automargin": true,
            "type": "pie"
           }
          ],
          "scatter": [
           {
            "fillpattern": {
             "fillmode": "overlay",
             "size": 10,
             "solidity": 0.2
            },
            "type": "scatter"
           }
          ],
          "scatter3d": [
           {
            "line": {
             "colorbar": {
              "outlinewidth": 0,
              "ticks": ""
             }
            },
            "marker": {
             "colorbar": {
              "outlinewidth": 0,
              "ticks": ""
             }
            },
            "type": "scatter3d"
           }
          ],
          "scattercarpet": [
           {
            "marker": {
             "colorbar": {
              "outlinewidth": 0,
              "ticks": ""
             }
            },
            "type": "scattercarpet"
           }
          ],
          "scattergeo": [
           {
            "marker": {
             "colorbar": {
              "outlinewidth": 0,
              "ticks": ""
             }
            },
            "type": "scattergeo"
           }
          ],
          "scattergl": [
           {
            "marker": {
             "colorbar": {
              "outlinewidth": 0,
              "ticks": ""
             }
            },
            "type": "scattergl"
           }
          ],
          "scattermapbox": [
           {
            "marker": {
             "colorbar": {
              "outlinewidth": 0,
              "ticks": ""
             }
            },
            "type": "scattermapbox"
           }
          ],
          "scatterpolar": [
           {
            "marker": {
             "colorbar": {
              "outlinewidth": 0,
              "ticks": ""
             }
            },
            "type": "scatterpolar"
           }
          ],
          "scatterpolargl": [
           {
            "marker": {
             "colorbar": {
              "outlinewidth": 0,
              "ticks": ""
             }
            },
            "type": "scatterpolargl"
           }
          ],
          "scatterternary": [
           {
            "marker": {
             "colorbar": {
              "outlinewidth": 0,
              "ticks": ""
             }
            },
            "type": "scatterternary"
           }
          ],
          "surface": [
           {
            "colorbar": {
             "outlinewidth": 0,
             "ticks": ""
            },
            "colorscale": [
             [
              0,
              "#0d0887"
             ],
             [
              0.1111111111111111,
              "#46039f"
             ],
             [
              0.2222222222222222,
              "#7201a8"
             ],
             [
              0.3333333333333333,
              "#9c179e"
             ],
             [
              0.4444444444444444,
              "#bd3786"
             ],
             [
              0.5555555555555556,
              "#d8576b"
             ],
             [
              0.6666666666666666,
              "#ed7953"
             ],
             [
              0.7777777777777778,
              "#fb9f3a"
             ],
             [
              0.8888888888888888,
              "#fdca26"
             ],
             [
              1,
              "#f0f921"
             ]
            ],
            "type": "surface"
           }
          ],
          "table": [
           {
            "cells": {
             "fill": {
              "color": "#EBF0F8"
             },
             "line": {
              "color": "white"
             }
            },
            "header": {
             "fill": {
              "color": "#C8D4E3"
             },
             "line": {
              "color": "white"
             }
            },
            "type": "table"
           }
          ]
         },
         "layout": {
          "annotationdefaults": {
           "arrowcolor": "#2a3f5f",
           "arrowhead": 0,
           "arrowwidth": 1
          },
          "autotypenumbers": "strict",
          "coloraxis": {
           "colorbar": {
            "outlinewidth": 0,
            "ticks": ""
           }
          },
          "colorscale": {
           "diverging": [
            [
             0,
             "#8e0152"
            ],
            [
             0.1,
             "#c51b7d"
            ],
            [
             0.2,
             "#de77ae"
            ],
            [
             0.3,
             "#f1b6da"
            ],
            [
             0.4,
             "#fde0ef"
            ],
            [
             0.5,
             "#f7f7f7"
            ],
            [
             0.6,
             "#e6f5d0"
            ],
            [
             0.7,
             "#b8e186"
            ],
            [
             0.8,
             "#7fbc41"
            ],
            [
             0.9,
             "#4d9221"
            ],
            [
             1,
             "#276419"
            ]
           ],
           "sequential": [
            [
             0,
             "#0d0887"
            ],
            [
             0.1111111111111111,
             "#46039f"
            ],
            [
             0.2222222222222222,
             "#7201a8"
            ],
            [
             0.3333333333333333,
             "#9c179e"
            ],
            [
             0.4444444444444444,
             "#bd3786"
            ],
            [
             0.5555555555555556,
             "#d8576b"
            ],
            [
             0.6666666666666666,
             "#ed7953"
            ],
            [
             0.7777777777777778,
             "#fb9f3a"
            ],
            [
             0.8888888888888888,
             "#fdca26"
            ],
            [
             1,
             "#f0f921"
            ]
           ],
           "sequentialminus": [
            [
             0,
             "#0d0887"
            ],
            [
             0.1111111111111111,
             "#46039f"
            ],
            [
             0.2222222222222222,
             "#7201a8"
            ],
            [
             0.3333333333333333,
             "#9c179e"
            ],
            [
             0.4444444444444444,
             "#bd3786"
            ],
            [
             0.5555555555555556,
             "#d8576b"
            ],
            [
             0.6666666666666666,
             "#ed7953"
            ],
            [
             0.7777777777777778,
             "#fb9f3a"
            ],
            [
             0.8888888888888888,
             "#fdca26"
            ],
            [
             1,
             "#f0f921"
            ]
           ]
          },
          "colorway": [
           "#636efa",
           "#EF553B",
           "#00cc96",
           "#ab63fa",
           "#FFA15A",
           "#19d3f3",
           "#FF6692",
           "#B6E880",
           "#FF97FF",
           "#FECB52"
          ],
          "font": {
           "color": "#2a3f5f"
          },
          "geo": {
           "bgcolor": "white",
           "lakecolor": "white",
           "landcolor": "#E5ECF6",
           "showlakes": true,
           "showland": true,
           "subunitcolor": "white"
          },
          "hoverlabel": {
           "align": "left"
          },
          "hovermode": "closest",
          "mapbox": {
           "style": "light"
          },
          "paper_bgcolor": "white",
          "plot_bgcolor": "#E5ECF6",
          "polar": {
           "angularaxis": {
            "gridcolor": "white",
            "linecolor": "white",
            "ticks": ""
           },
           "bgcolor": "#E5ECF6",
           "radialaxis": {
            "gridcolor": "white",
            "linecolor": "white",
            "ticks": ""
           }
          },
          "scene": {
           "xaxis": {
            "backgroundcolor": "#E5ECF6",
            "gridcolor": "white",
            "gridwidth": 2,
            "linecolor": "white",
            "showbackground": true,
            "ticks": "",
            "zerolinecolor": "white"
           },
           "yaxis": {
            "backgroundcolor": "#E5ECF6",
            "gridcolor": "white",
            "gridwidth": 2,
            "linecolor": "white",
            "showbackground": true,
            "ticks": "",
            "zerolinecolor": "white"
           },
           "zaxis": {
            "backgroundcolor": "#E5ECF6",
            "gridcolor": "white",
            "gridwidth": 2,
            "linecolor": "white",
            "showbackground": true,
            "ticks": "",
            "zerolinecolor": "white"
           }
          },
          "shapedefaults": {
           "line": {
            "color": "#2a3f5f"
           }
          },
          "ternary": {
           "aaxis": {
            "gridcolor": "white",
            "linecolor": "white",
            "ticks": ""
           },
           "baxis": {
            "gridcolor": "white",
            "linecolor": "white",
            "ticks": ""
           },
           "bgcolor": "#E5ECF6",
           "caxis": {
            "gridcolor": "white",
            "linecolor": "white",
            "ticks": ""
           }
          },
          "title": {
           "x": 0.05
          },
          "xaxis": {
           "automargin": true,
           "gridcolor": "white",
           "linecolor": "white",
           "ticks": "",
           "title": {
            "standoff": 15
           },
           "zerolinecolor": "white",
           "zerolinewidth": 2
          },
          "yaxis": {
           "automargin": true,
           "gridcolor": "white",
           "linecolor": "white",
           "ticks": "",
           "title": {
            "standoff": 15
           },
           "zerolinecolor": "white",
           "zerolinewidth": 2
          }
         }
        }
       }
      }
     },
     "metadata": {},
     "output_type": "display_data"
    }
   ],
   "source": [
    "res_y  = c1 * test_x**2 + c2 * test_x + c3 \n",
    "\n",
    "fig = go.Figure()\n",
    "\n",
    "fig.add_trace(go.Scatter(\n",
    "                    x=test_x,\n",
    "                    y=test_y,\n",
    "                    line=dict(color='green', width=2),\n",
    "                    name='Тестовые данные',\n",
    "                   )\n",
    ")\n",
    "fig.add_trace(go.Scatter(\n",
    "                    x=test_x,\n",
    "                    y=res_y,\n",
    "                    line=dict(color='red', width=2),\n",
    "                    name='МНК',\n",
    "                    )\n",
    ")\n",
    "fig.show()"
   ]
  },
  {
   "cell_type": "code",
   "execution_count": 46,
   "metadata": {},
   "outputs": [
    {
     "data": {
      "application/vnd.plotly.v1+json": {
       "config": {
        "plotlyServerURL": "https://plot.ly"
       },
       "data": [
        {
         "line": {
          "color": "green",
          "width": 2
         },
         "name": "Данные для обучения",
         "type": "scatter",
         "x": [
          0,
          345600,
          432000,
          518400,
          604800,
          864000,
          950400,
          1036800,
          1123200,
          1209600,
          1468800,
          1555200,
          1641600,
          1728000,
          1814400,
          2073600,
          2160000,
          2246400,
          2332800,
          2419200,
          2678400,
          2764800,
          2851200,
          2937600,
          3024000,
          3283200,
          3456000,
          3542400,
          3628800,
          3888000,
          3974400,
          4060800,
          4147200,
          4233600,
          4492800,
          4579200,
          4665600,
          4752000,
          4838400,
          5097600,
          5184000,
          5270400,
          5356800,
          5443200,
          5702400,
          5788800,
          5875200,
          5961600,
          6048000,
          6307200,
          6393600,
          6480000,
          6566400,
          6652800,
          6912000,
          6998400,
          7084800,
          7171200,
          7257600,
          7516800,
          7603200,
          7689600,
          7776000,
          7862400,
          8121600,
          8208000,
          8294400,
          8380800,
          8467200,
          8812800,
          8899200,
          8985600,
          9072000,
          9331200,
          9417600,
          9504000,
          9590400,
          9676800,
          9936000,
          10022400,
          10108800,
          10195200,
          10281600,
          10540800,
          10627200,
          10713600,
          10800000,
          10886400,
          11145600,
          11232000,
          11318400,
          11404800,
          11491200,
          11750400,
          11836800,
          11923200,
          12009600,
          12096000,
          12355200,
          12441600,
          12528000,
          12614400,
          12700800,
          12960000,
          13046400,
          13132800,
          13219200,
          13305600,
          13564800,
          13651200,
          13737600,
          13824000,
          13910400,
          14169600,
          14256000,
          14342400,
          14428800,
          14515200,
          14774400,
          14860800,
          14947200,
          15033600,
          15120000,
          15379200,
          15465600,
          15552000,
          15724800,
          15984000,
          16070400,
          16156800,
          16243200,
          16329600,
          16588800,
          16675200,
          16761600,
          16848000,
          16934400,
          17193600,
          17280000,
          17366400,
          17452800,
          17539200,
          17798400,
          17884800,
          17971200,
          18057600,
          18144000,
          18489600,
          18576000,
          18662400,
          18748800,
          19180800,
          19267200,
          19353600,
          19612800,
          19699200,
          19785600,
          19872000,
          19958400,
          20304000
         ],
         "y": [
          190.87,
          186.16,
          186.1,
          191.5,
          189.91,
          187.41,
          195.19,
          193.45,
          196.85,
          193.48,
          190.96,
          193.46,
          192.39,
          195.7,
          195.55,
          194.26,
          193.78,
          201.27,
          200.17,
          202.63,
          202.31,
          201.36,
          203.26,
          209.11,
          209.87,
          211.81,
          210.94,
          211.81,
          210.44,
          209.31,
          212.49,
          208.83,
          204.62,
          201.95,
          204.15,
          201.73,
          199.7,
          193.75,
          195.25,
          195.65,
          194.87,
          192.94,
          191.39,
          194.25,
          193.49,
          187.94,
          183.8,
          187.88,
          187.11,
          189.16,
          190.69,
          188.66,
          187.29,
          184.43,
          184.9,
          190.68,
          194.05,
          193.09,
          191.87,
          188.84,
          189.33,
          186.9,
          187.05,
          186.82,
          190.67,
          189.66,
          190.57,
          189.45,
          189.49,
          192.37,
          190.26,
          189.43,
          189.11,
          192.24,
          196.15,
          203.49,
          202.19,
          205.14,
          207.55,
          202.11,
          198.7,
          203.63,
          202.09,
          202.19,
          203.64,
          201.66,
          201.99,
          201.15,
          200.92,
          202.22,
          208.06,
          206.11,
          210.46,
          214.71,
          213.54,
          213.46,
          213.93,
          213.86,
          211.09,
          210.53,
          209.86,
          213.24,
          230.06,
          240.63,
          236.89,
          243.54,
          242.79,
          237.84,
          238.52,
          238.43,
          233.98,
          235.19,
          236.13,
          238.71,
          236.52,
          237.74,
          236.55,
          237.01,
          240.76,
          244.89,
          246.21,
          248.2,
          249.64,
          247.77,
          255.08,
          254.26,
          252.8,
          242.62,
          244.99,
          242.57,
          242.65,
          240.64,
          242.67,
          243.74,
          244.6,
          241.56,
          242.3,
          242.21,
          241.13,
          239.73,
          241.3,
          240.39,
          231.63,
          234.55,
          231.68,
          228.33,
          228.02,
          228.99,
          234.25,
          231.51,
          230.47,
          234.03,
          241.87,
          243.84,
          242.03,
          242.99,
          244.97,
          250.11,
          252.75,
          252.39
         ]
        },
        {
         "line": {
          "color": "red",
          "width": 2
         },
         "name": "Данные для верификации",
         "type": "scatter",
         "x": [
          0,
          345600,
          432000,
          518400,
          604800,
          864000,
          950400,
          1036800,
          1123200,
          1209600,
          1468800,
          1555200,
          1641600,
          1728000,
          1814400,
          2073600,
          2160000,
          2246400,
          2332800,
          2419200,
          2678400,
          2764800,
          2851200,
          2937600,
          3024000,
          3283200,
          3456000,
          3542400,
          3628800,
          3888000,
          3974400,
          4060800,
          4147200,
          4233600,
          4492800,
          4579200,
          4665600,
          4752000,
          4838400,
          5097600,
          5184000,
          5270400,
          5356800,
          5443200,
          5702400,
          5788800,
          5875200,
          5961600,
          6048000,
          6307200,
          6393600,
          6480000,
          6566400,
          6652800,
          6912000,
          6998400,
          7084800,
          7171200,
          7257600,
          7516800,
          7603200,
          7689600,
          7776000,
          7862400,
          8121600,
          8208000,
          8294400,
          8380800,
          8467200,
          8812800,
          8899200,
          8985600,
          9072000,
          9331200,
          9417600,
          9504000,
          9590400,
          9676800,
          9936000,
          10022400,
          10108800,
          10195200,
          10281600,
          10540800,
          10627200,
          10713600,
          10800000,
          10886400,
          11145600,
          11232000,
          11318400,
          11404800,
          11491200,
          11750400,
          11836800,
          11923200,
          12009600,
          12096000,
          12355200,
          12441600,
          12528000,
          12614400,
          12700800,
          12960000,
          13046400,
          13132800,
          13219200,
          13305600,
          13564800,
          13651200,
          13737600,
          13824000,
          13910400,
          14169600,
          14256000,
          14342400,
          14428800,
          14515200,
          14774400,
          14860800,
          14947200,
          15033600,
          15120000,
          15379200,
          15465600,
          15552000,
          15724800,
          15984000,
          16070400,
          16156800,
          16243200,
          16329600,
          16588800,
          16675200,
          16761600,
          16848000,
          16934400,
          17193600,
          17280000,
          17366400,
          17452800,
          17539200,
          17798400,
          17884800,
          17971200,
          18057600,
          18144000,
          18489600,
          18576000,
          18662400,
          18748800,
          19180800,
          19267200,
          19353600,
          19612800,
          19699200,
          19785600,
          19872000,
          19958400,
          20304000
         ],
         "y": [
          188.515,
          186.13,
          186.13,
          188.8,
          190.70499999999998,
          191.3,
          191.3,
          194.32,
          195.14999999999998,
          195.165,
          192.21,
          192.21,
          192.925,
          194.045,
          195.625,
          194.01999999999998,
          194.01999999999998,
          197.525,
          200.72,
          201.39999999999998,
          201.835,
          201.835,
          202.31,
          206.185,
          209.49,
          211.375,
          211.375,
          211.375,
          211.125,
          210.9,
          210.9,
          210.66000000000003,
          206.72500000000002,
          203.285,
          202.94,
          202.94,
          200.71499999999997,
          196.725,
          194.5,
          195.26,
          193.905,
          193.905,
          192.165,
          192.82,
          190.715,
          190.715,
          185.87,
          185.84,
          187.495,
          189.925,
          189.925,
          189.675,
          187.975,
          185.86,
          187.79000000000002,
          187.79000000000002,
          192.365,
          193.57,
          192.48000000000002,
          189.085,
          189.085,
          188.115,
          186.97500000000002,
          186.935,
          190.165,
          190.165,
          190.115,
          190.01,
          189.47,
          191.315,
          191.315,
          189.845,
          189.27,
          194.195,
          194.195,
          199.82,
          202.84,
          203.665,
          204.83,
          204.83,
          201.165,
          201.165,
          202.86,
          202.915,
          202.915,
          202.64999999999998,
          201.825,
          201.57,
          201.57,
          201.57,
          205.14,
          207.085,
          208.28500000000003,
          214.125,
          214.125,
          213.5,
          213.695,
          213.895,
          210.81,
          210.81,
          210.195,
          211.55,
          221.65,
          238.76,
          238.76,
          240.21499999999997,
          243.165,
          240.315,
          238.47500000000002,
          238.47500000000002,
          236.20499999999998,
          234.58499999999998,
          235.66,
          237.615,
          237.615,
          237.13,
          237.145,
          236.78,
          242.825,
          242.825,
          247.20499999999998,
          247.20499999999998,
          248.92,
          251.425,
          251.425,
          254.67000000000002,
          253.53,
          243.805,
          243.805,
          243.78,
          242.61,
          241.64499999999998,
          243.20499999999998,
          243.20499999999998,
          244.17000000000002,
          243.07999999999998,
          241.93,
          241.67000000000002,
          241.67000000000002,
          240.43,
          240.515,
          240.845,
          233.09,
          233.09,
          233.115,
          230.005,
          228.175,
          231.62,
          231.62,
          232.88,
          230.99,
          237.95,
          237.95,
          242.85500000000002,
          242.51,
          242.51,
          243.98000000000002,
          247.54000000000002,
          251.43,
          252.57
         ]
        }
       ],
       "layout": {
        "template": {
         "data": {
          "bar": [
           {
            "error_x": {
             "color": "#2a3f5f"
            },
            "error_y": {
             "color": "#2a3f5f"
            },
            "marker": {
             "line": {
              "color": "#E5ECF6",
              "width": 0.5
             },
             "pattern": {
              "fillmode": "overlay",
              "size": 10,
              "solidity": 0.2
             }
            },
            "type": "bar"
           }
          ],
          "barpolar": [
           {
            "marker": {
             "line": {
              "color": "#E5ECF6",
              "width": 0.5
             },
             "pattern": {
              "fillmode": "overlay",
              "size": 10,
              "solidity": 0.2
             }
            },
            "type": "barpolar"
           }
          ],
          "carpet": [
           {
            "aaxis": {
             "endlinecolor": "#2a3f5f",
             "gridcolor": "white",
             "linecolor": "white",
             "minorgridcolor": "white",
             "startlinecolor": "#2a3f5f"
            },
            "baxis": {
             "endlinecolor": "#2a3f5f",
             "gridcolor": "white",
             "linecolor": "white",
             "minorgridcolor": "white",
             "startlinecolor": "#2a3f5f"
            },
            "type": "carpet"
           }
          ],
          "choropleth": [
           {
            "colorbar": {
             "outlinewidth": 0,
             "ticks": ""
            },
            "type": "choropleth"
           }
          ],
          "contour": [
           {
            "colorbar": {
             "outlinewidth": 0,
             "ticks": ""
            },
            "colorscale": [
             [
              0,
              "#0d0887"
             ],
             [
              0.1111111111111111,
              "#46039f"
             ],
             [
              0.2222222222222222,
              "#7201a8"
             ],
             [
              0.3333333333333333,
              "#9c179e"
             ],
             [
              0.4444444444444444,
              "#bd3786"
             ],
             [
              0.5555555555555556,
              "#d8576b"
             ],
             [
              0.6666666666666666,
              "#ed7953"
             ],
             [
              0.7777777777777778,
              "#fb9f3a"
             ],
             [
              0.8888888888888888,
              "#fdca26"
             ],
             [
              1,
              "#f0f921"
             ]
            ],
            "type": "contour"
           }
          ],
          "contourcarpet": [
           {
            "colorbar": {
             "outlinewidth": 0,
             "ticks": ""
            },
            "type": "contourcarpet"
           }
          ],
          "heatmap": [
           {
            "colorbar": {
             "outlinewidth": 0,
             "ticks": ""
            },
            "colorscale": [
             [
              0,
              "#0d0887"
             ],
             [
              0.1111111111111111,
              "#46039f"
             ],
             [
              0.2222222222222222,
              "#7201a8"
             ],
             [
              0.3333333333333333,
              "#9c179e"
             ],
             [
              0.4444444444444444,
              "#bd3786"
             ],
             [
              0.5555555555555556,
              "#d8576b"
             ],
             [
              0.6666666666666666,
              "#ed7953"
             ],
             [
              0.7777777777777778,
              "#fb9f3a"
             ],
             [
              0.8888888888888888,
              "#fdca26"
             ],
             [
              1,
              "#f0f921"
             ]
            ],
            "type": "heatmap"
           }
          ],
          "heatmapgl": [
           {
            "colorbar": {
             "outlinewidth": 0,
             "ticks": ""
            },
            "colorscale": [
             [
              0,
              "#0d0887"
             ],
             [
              0.1111111111111111,
              "#46039f"
             ],
             [
              0.2222222222222222,
              "#7201a8"
             ],
             [
              0.3333333333333333,
              "#9c179e"
             ],
             [
              0.4444444444444444,
              "#bd3786"
             ],
             [
              0.5555555555555556,
              "#d8576b"
             ],
             [
              0.6666666666666666,
              "#ed7953"
             ],
             [
              0.7777777777777778,
              "#fb9f3a"
             ],
             [
              0.8888888888888888,
              "#fdca26"
             ],
             [
              1,
              "#f0f921"
             ]
            ],
            "type": "heatmapgl"
           }
          ],
          "histogram": [
           {
            "marker": {
             "pattern": {
              "fillmode": "overlay",
              "size": 10,
              "solidity": 0.2
             }
            },
            "type": "histogram"
           }
          ],
          "histogram2d": [
           {
            "colorbar": {
             "outlinewidth": 0,
             "ticks": ""
            },
            "colorscale": [
             [
              0,
              "#0d0887"
             ],
             [
              0.1111111111111111,
              "#46039f"
             ],
             [
              0.2222222222222222,
              "#7201a8"
             ],
             [
              0.3333333333333333,
              "#9c179e"
             ],
             [
              0.4444444444444444,
              "#bd3786"
             ],
             [
              0.5555555555555556,
              "#d8576b"
             ],
             [
              0.6666666666666666,
              "#ed7953"
             ],
             [
              0.7777777777777778,
              "#fb9f3a"
             ],
             [
              0.8888888888888888,
              "#fdca26"
             ],
             [
              1,
              "#f0f921"
             ]
            ],
            "type": "histogram2d"
           }
          ],
          "histogram2dcontour": [
           {
            "colorbar": {
             "outlinewidth": 0,
             "ticks": ""
            },
            "colorscale": [
             [
              0,
              "#0d0887"
             ],
             [
              0.1111111111111111,
              "#46039f"
             ],
             [
              0.2222222222222222,
              "#7201a8"
             ],
             [
              0.3333333333333333,
              "#9c179e"
             ],
             [
              0.4444444444444444,
              "#bd3786"
             ],
             [
              0.5555555555555556,
              "#d8576b"
             ],
             [
              0.6666666666666666,
              "#ed7953"
             ],
             [
              0.7777777777777778,
              "#fb9f3a"
             ],
             [
              0.8888888888888888,
              "#fdca26"
             ],
             [
              1,
              "#f0f921"
             ]
            ],
            "type": "histogram2dcontour"
           }
          ],
          "mesh3d": [
           {
            "colorbar": {
             "outlinewidth": 0,
             "ticks": ""
            },
            "type": "mesh3d"
           }
          ],
          "parcoords": [
           {
            "line": {
             "colorbar": {
              "outlinewidth": 0,
              "ticks": ""
             }
            },
            "type": "parcoords"
           }
          ],
          "pie": [
           {
            "automargin": true,
            "type": "pie"
           }
          ],
          "scatter": [
           {
            "fillpattern": {
             "fillmode": "overlay",
             "size": 10,
             "solidity": 0.2
            },
            "type": "scatter"
           }
          ],
          "scatter3d": [
           {
            "line": {
             "colorbar": {
              "outlinewidth": 0,
              "ticks": ""
             }
            },
            "marker": {
             "colorbar": {
              "outlinewidth": 0,
              "ticks": ""
             }
            },
            "type": "scatter3d"
           }
          ],
          "scattercarpet": [
           {
            "marker": {
             "colorbar": {
              "outlinewidth": 0,
              "ticks": ""
             }
            },
            "type": "scattercarpet"
           }
          ],
          "scattergeo": [
           {
            "marker": {
             "colorbar": {
              "outlinewidth": 0,
              "ticks": ""
             }
            },
            "type": "scattergeo"
           }
          ],
          "scattergl": [
           {
            "marker": {
             "colorbar": {
              "outlinewidth": 0,
              "ticks": ""
             }
            },
            "type": "scattergl"
           }
          ],
          "scattermapbox": [
           {
            "marker": {
             "colorbar": {
              "outlinewidth": 0,
              "ticks": ""
             }
            },
            "type": "scattermapbox"
           }
          ],
          "scatterpolar": [
           {
            "marker": {
             "colorbar": {
              "outlinewidth": 0,
              "ticks": ""
             }
            },
            "type": "scatterpolar"
           }
          ],
          "scatterpolargl": [
           {
            "marker": {
             "colorbar": {
              "outlinewidth": 0,
              "ticks": ""
             }
            },
            "type": "scatterpolargl"
           }
          ],
          "scatterternary": [
           {
            "marker": {
             "colorbar": {
              "outlinewidth": 0,
              "ticks": ""
             }
            },
            "type": "scatterternary"
           }
          ],
          "surface": [
           {
            "colorbar": {
             "outlinewidth": 0,
             "ticks": ""
            },
            "colorscale": [
             [
              0,
              "#0d0887"
             ],
             [
              0.1111111111111111,
              "#46039f"
             ],
             [
              0.2222222222222222,
              "#7201a8"
             ],
             [
              0.3333333333333333,
              "#9c179e"
             ],
             [
              0.4444444444444444,
              "#bd3786"
             ],
             [
              0.5555555555555556,
              "#d8576b"
             ],
             [
              0.6666666666666666,
              "#ed7953"
             ],
             [
              0.7777777777777778,
              "#fb9f3a"
             ],
             [
              0.8888888888888888,
              "#fdca26"
             ],
             [
              1,
              "#f0f921"
             ]
            ],
            "type": "surface"
           }
          ],
          "table": [
           {
            "cells": {
             "fill": {
              "color": "#EBF0F8"
             },
             "line": {
              "color": "white"
             }
            },
            "header": {
             "fill": {
              "color": "#C8D4E3"
             },
             "line": {
              "color": "white"
             }
            },
            "type": "table"
           }
          ]
         },
         "layout": {
          "annotationdefaults": {
           "arrowcolor": "#2a3f5f",
           "arrowhead": 0,
           "arrowwidth": 1
          },
          "autotypenumbers": "strict",
          "coloraxis": {
           "colorbar": {
            "outlinewidth": 0,
            "ticks": ""
           }
          },
          "colorscale": {
           "diverging": [
            [
             0,
             "#8e0152"
            ],
            [
             0.1,
             "#c51b7d"
            ],
            [
             0.2,
             "#de77ae"
            ],
            [
             0.3,
             "#f1b6da"
            ],
            [
             0.4,
             "#fde0ef"
            ],
            [
             0.5,
             "#f7f7f7"
            ],
            [
             0.6,
             "#e6f5d0"
            ],
            [
             0.7,
             "#b8e186"
            ],
            [
             0.8,
             "#7fbc41"
            ],
            [
             0.9,
             "#4d9221"
            ],
            [
             1,
             "#276419"
            ]
           ],
           "sequential": [
            [
             0,
             "#0d0887"
            ],
            [
             0.1111111111111111,
             "#46039f"
            ],
            [
             0.2222222222222222,
             "#7201a8"
            ],
            [
             0.3333333333333333,
             "#9c179e"
            ],
            [
             0.4444444444444444,
             "#bd3786"
            ],
            [
             0.5555555555555556,
             "#d8576b"
            ],
            [
             0.6666666666666666,
             "#ed7953"
            ],
            [
             0.7777777777777778,
             "#fb9f3a"
            ],
            [
             0.8888888888888888,
             "#fdca26"
            ],
            [
             1,
             "#f0f921"
            ]
           ],
           "sequentialminus": [
            [
             0,
             "#0d0887"
            ],
            [
             0.1111111111111111,
             "#46039f"
            ],
            [
             0.2222222222222222,
             "#7201a8"
            ],
            [
             0.3333333333333333,
             "#9c179e"
            ],
            [
             0.4444444444444444,
             "#bd3786"
            ],
            [
             0.5555555555555556,
             "#d8576b"
            ],
            [
             0.6666666666666666,
             "#ed7953"
            ],
            [
             0.7777777777777778,
             "#fb9f3a"
            ],
            [
             0.8888888888888888,
             "#fdca26"
            ],
            [
             1,
             "#f0f921"
            ]
           ]
          },
          "colorway": [
           "#636efa",
           "#EF553B",
           "#00cc96",
           "#ab63fa",
           "#FFA15A",
           "#19d3f3",
           "#FF6692",
           "#B6E880",
           "#FF97FF",
           "#FECB52"
          ],
          "font": {
           "color": "#2a3f5f"
          },
          "geo": {
           "bgcolor": "white",
           "lakecolor": "white",
           "landcolor": "#E5ECF6",
           "showlakes": true,
           "showland": true,
           "subunitcolor": "white"
          },
          "hoverlabel": {
           "align": "left"
          },
          "hovermode": "closest",
          "mapbox": {
           "style": "light"
          },
          "paper_bgcolor": "white",
          "plot_bgcolor": "#E5ECF6",
          "polar": {
           "angularaxis": {
            "gridcolor": "white",
            "linecolor": "white",
            "ticks": ""
           },
           "bgcolor": "#E5ECF6",
           "radialaxis": {
            "gridcolor": "white",
            "linecolor": "white",
            "ticks": ""
           }
          },
          "scene": {
           "xaxis": {
            "backgroundcolor": "#E5ECF6",
            "gridcolor": "white",
            "gridwidth": 2,
            "linecolor": "white",
            "showbackground": true,
            "ticks": "",
            "zerolinecolor": "white"
           },
           "yaxis": {
            "backgroundcolor": "#E5ECF6",
            "gridcolor": "white",
            "gridwidth": 2,
            "linecolor": "white",
            "showbackground": true,
            "ticks": "",
            "zerolinecolor": "white"
           },
           "zaxis": {
            "backgroundcolor": "#E5ECF6",
            "gridcolor": "white",
            "gridwidth": 2,
            "linecolor": "white",
            "showbackground": true,
            "ticks": "",
            "zerolinecolor": "white"
           }
          },
          "shapedefaults": {
           "line": {
            "color": "#2a3f5f"
           }
          },
          "ternary": {
           "aaxis": {
            "gridcolor": "white",
            "linecolor": "white",
            "ticks": ""
           },
           "baxis": {
            "gridcolor": "white",
            "linecolor": "white",
            "ticks": ""
           },
           "bgcolor": "#E5ECF6",
           "caxis": {
            "gridcolor": "white",
            "linecolor": "white",
            "ticks": ""
           }
          },
          "title": {
           "x": 0.05
          },
          "xaxis": {
           "automargin": true,
           "gridcolor": "white",
           "linecolor": "white",
           "ticks": "",
           "title": {
            "standoff": 15
           },
           "zerolinecolor": "white",
           "zerolinewidth": 2
          },
          "yaxis": {
           "automargin": true,
           "gridcolor": "white",
           "linecolor": "white",
           "ticks": "",
           "title": {
            "standoff": 15
           },
           "zerolinecolor": "white",
           "zerolinewidth": 2
          }
         }
        }
       }
      }
     },
     "metadata": {},
     "output_type": "display_data"
    }
   ],
   "source": [
    "from sklearn.neighbors import KNeighborsRegressor\n",
    "\n",
    "neigh = KNeighborsRegressor(n_neighbors=2)\n",
    "\n",
    "neigh.fit(train_x.reshape(-1, 1), train_y)\n",
    "\n",
    "res_y = neigh.predict(train_x.reshape(-1, 1))\n",
    "\n",
    "fig = go.Figure()\n",
    "\n",
    "fig.add_trace(go.Scatter(\n",
    "                    x=train_x,\n",
    "                    y=train_y,\n",
    "                    line=dict(color='green', width=2),\n",
    "                    name='Данные для обучения',\n",
    "                   )\n",
    ")\n",
    "fig.add_trace(go.Scatter(\n",
    "                    x=train_x,\n",
    "                    y=res_y,\n",
    "                    line=dict(color='red', width=2),\n",
    "                    name='Данные для верификации',\n",
    "                    )\n",
    ")\n",
    "fig.show()\n"
   ]
  },
  {
   "cell_type": "code",
   "execution_count": 47,
   "metadata": {},
   "outputs": [
    {
     "data": {
      "application/vnd.plotly.v1+json": {
       "config": {
        "plotlyServerURL": "https://plot.ly"
       },
       "data": [
        {
         "line": {
          "color": "green",
          "width": 2
         },
         "name": "Данные для обучения",
         "type": "scatter",
         "x": [
          20390400,
          20476800,
          20563200,
          20822400,
          20908800,
          20995200,
          21081600,
          21168000,
          21427200,
          21513600,
          21600000,
          21686400,
          21772800,
          22032000,
          22118400,
          22204800,
          22291200,
          22377600,
          22636800,
          22723200,
          22809600,
          22896000,
          22982400,
          23328000,
          23414400,
          23500800,
          23587200,
          23846400,
          23932800,
          24019200,
          24105600,
          24192000,
          24451200,
          24537600,
          24624000,
          24710400,
          24796800,
          25056000,
          25142400,
          25228800
         ],
         "y": [
          248.89,
          244.16,
          245.12,
          240.66,
          239.76,
          249.78,
          244.29,
          248.17,
          246.48,
          247.41,
          251,
          241.12,
          240.99,
          233.81,
          235.98,
          235.24,
          235.75,
          231.18,
          229.37,
          229.78,
          233.2,
          230.97,
          235.2,
          236.29,
          238.17,
          238.16,
          235.55,
          232.7,
          224.61,
          224.95,
          224.34,
          219.56,
          220.69,
          229,
          228.05,
          227.59,
          226.71,
          227.6,
          221.74,
          224.22
         ]
        },
        {
         "line": {
          "color": "red",
          "width": 2
         },
         "name": "Данные для верификации",
         "type": "scatter",
         "x": [
          20390400,
          20476800,
          20563200,
          20822400,
          20908800,
          20995200,
          21081600,
          21168000,
          21427200,
          21513600,
          21600000,
          21686400,
          21772800,
          22032000,
          22118400,
          22204800,
          22291200,
          22377600,
          22636800,
          22723200,
          22809600,
          22896000,
          22982400,
          23328000,
          23414400,
          23500800,
          23587200,
          23846400,
          23932800,
          24019200,
          24105600,
          24192000,
          24451200,
          24537600,
          24624000,
          24710400,
          24796800,
          25056000,
          25142400,
          25228800
         ],
         "y": [
          252.57,
          252.57,
          252.57,
          252.57,
          252.57,
          252.57,
          252.57,
          252.57,
          252.57,
          252.57,
          252.57,
          252.57,
          252.57,
          252.57,
          252.57,
          252.57,
          252.57,
          252.57,
          252.57,
          252.57,
          252.57,
          252.57,
          252.57,
          252.57,
          252.57,
          252.57,
          252.57,
          252.57,
          252.57,
          252.57,
          252.57,
          252.57,
          252.57,
          252.57,
          252.57,
          252.57,
          252.57,
          252.57,
          252.57,
          252.57
         ]
        }
       ],
       "layout": {
        "template": {
         "data": {
          "bar": [
           {
            "error_x": {
             "color": "#2a3f5f"
            },
            "error_y": {
             "color": "#2a3f5f"
            },
            "marker": {
             "line": {
              "color": "#E5ECF6",
              "width": 0.5
             },
             "pattern": {
              "fillmode": "overlay",
              "size": 10,
              "solidity": 0.2
             }
            },
            "type": "bar"
           }
          ],
          "barpolar": [
           {
            "marker": {
             "line": {
              "color": "#E5ECF6",
              "width": 0.5
             },
             "pattern": {
              "fillmode": "overlay",
              "size": 10,
              "solidity": 0.2
             }
            },
            "type": "barpolar"
           }
          ],
          "carpet": [
           {
            "aaxis": {
             "endlinecolor": "#2a3f5f",
             "gridcolor": "white",
             "linecolor": "white",
             "minorgridcolor": "white",
             "startlinecolor": "#2a3f5f"
            },
            "baxis": {
             "endlinecolor": "#2a3f5f",
             "gridcolor": "white",
             "linecolor": "white",
             "minorgridcolor": "white",
             "startlinecolor": "#2a3f5f"
            },
            "type": "carpet"
           }
          ],
          "choropleth": [
           {
            "colorbar": {
             "outlinewidth": 0,
             "ticks": ""
            },
            "type": "choropleth"
           }
          ],
          "contour": [
           {
            "colorbar": {
             "outlinewidth": 0,
             "ticks": ""
            },
            "colorscale": [
             [
              0,
              "#0d0887"
             ],
             [
              0.1111111111111111,
              "#46039f"
             ],
             [
              0.2222222222222222,
              "#7201a8"
             ],
             [
              0.3333333333333333,
              "#9c179e"
             ],
             [
              0.4444444444444444,
              "#bd3786"
             ],
             [
              0.5555555555555556,
              "#d8576b"
             ],
             [
              0.6666666666666666,
              "#ed7953"
             ],
             [
              0.7777777777777778,
              "#fb9f3a"
             ],
             [
              0.8888888888888888,
              "#fdca26"
             ],
             [
              1,
              "#f0f921"
             ]
            ],
            "type": "contour"
           }
          ],
          "contourcarpet": [
           {
            "colorbar": {
             "outlinewidth": 0,
             "ticks": ""
            },
            "type": "contourcarpet"
           }
          ],
          "heatmap": [
           {
            "colorbar": {
             "outlinewidth": 0,
             "ticks": ""
            },
            "colorscale": [
             [
              0,
              "#0d0887"
             ],
             [
              0.1111111111111111,
              "#46039f"
             ],
             [
              0.2222222222222222,
              "#7201a8"
             ],
             [
              0.3333333333333333,
              "#9c179e"
             ],
             [
              0.4444444444444444,
              "#bd3786"
             ],
             [
              0.5555555555555556,
              "#d8576b"
             ],
             [
              0.6666666666666666,
              "#ed7953"
             ],
             [
              0.7777777777777778,
              "#fb9f3a"
             ],
             [
              0.8888888888888888,
              "#fdca26"
             ],
             [
              1,
              "#f0f921"
             ]
            ],
            "type": "heatmap"
           }
          ],
          "heatmapgl": [
           {
            "colorbar": {
             "outlinewidth": 0,
             "ticks": ""
            },
            "colorscale": [
             [
              0,
              "#0d0887"
             ],
             [
              0.1111111111111111,
              "#46039f"
             ],
             [
              0.2222222222222222,
              "#7201a8"
             ],
             [
              0.3333333333333333,
              "#9c179e"
             ],
             [
              0.4444444444444444,
              "#bd3786"
             ],
             [
              0.5555555555555556,
              "#d8576b"
             ],
             [
              0.6666666666666666,
              "#ed7953"
             ],
             [
              0.7777777777777778,
              "#fb9f3a"
             ],
             [
              0.8888888888888888,
              "#fdca26"
             ],
             [
              1,
              "#f0f921"
             ]
            ],
            "type": "heatmapgl"
           }
          ],
          "histogram": [
           {
            "marker": {
             "pattern": {
              "fillmode": "overlay",
              "size": 10,
              "solidity": 0.2
             }
            },
            "type": "histogram"
           }
          ],
          "histogram2d": [
           {
            "colorbar": {
             "outlinewidth": 0,
             "ticks": ""
            },
            "colorscale": [
             [
              0,
              "#0d0887"
             ],
             [
              0.1111111111111111,
              "#46039f"
             ],
             [
              0.2222222222222222,
              "#7201a8"
             ],
             [
              0.3333333333333333,
              "#9c179e"
             ],
             [
              0.4444444444444444,
              "#bd3786"
             ],
             [
              0.5555555555555556,
              "#d8576b"
             ],
             [
              0.6666666666666666,
              "#ed7953"
             ],
             [
              0.7777777777777778,
              "#fb9f3a"
             ],
             [
              0.8888888888888888,
              "#fdca26"
             ],
             [
              1,
              "#f0f921"
             ]
            ],
            "type": "histogram2d"
           }
          ],
          "histogram2dcontour": [
           {
            "colorbar": {
             "outlinewidth": 0,
             "ticks": ""
            },
            "colorscale": [
             [
              0,
              "#0d0887"
             ],
             [
              0.1111111111111111,
              "#46039f"
             ],
             [
              0.2222222222222222,
              "#7201a8"
             ],
             [
              0.3333333333333333,
              "#9c179e"
             ],
             [
              0.4444444444444444,
              "#bd3786"
             ],
             [
              0.5555555555555556,
              "#d8576b"
             ],
             [
              0.6666666666666666,
              "#ed7953"
             ],
             [
              0.7777777777777778,
              "#fb9f3a"
             ],
             [
              0.8888888888888888,
              "#fdca26"
             ],
             [
              1,
              "#f0f921"
             ]
            ],
            "type": "histogram2dcontour"
           }
          ],
          "mesh3d": [
           {
            "colorbar": {
             "outlinewidth": 0,
             "ticks": ""
            },
            "type": "mesh3d"
           }
          ],
          "parcoords": [
           {
            "line": {
             "colorbar": {
              "outlinewidth": 0,
              "ticks": ""
             }
            },
            "type": "parcoords"
           }
          ],
          "pie": [
           {
            "automargin": true,
            "type": "pie"
           }
          ],
          "scatter": [
           {
            "fillpattern": {
             "fillmode": "overlay",
             "size": 10,
             "solidity": 0.2
            },
            "type": "scatter"
           }
          ],
          "scatter3d": [
           {
            "line": {
             "colorbar": {
              "outlinewidth": 0,
              "ticks": ""
             }
            },
            "marker": {
             "colorbar": {
              "outlinewidth": 0,
              "ticks": ""
             }
            },
            "type": "scatter3d"
           }
          ],
          "scattercarpet": [
           {
            "marker": {
             "colorbar": {
              "outlinewidth": 0,
              "ticks": ""
             }
            },
            "type": "scattercarpet"
           }
          ],
          "scattergeo": [
           {
            "marker": {
             "colorbar": {
              "outlinewidth": 0,
              "ticks": ""
             }
            },
            "type": "scattergeo"
           }
          ],
          "scattergl": [
           {
            "marker": {
             "colorbar": {
              "outlinewidth": 0,
              "ticks": ""
             }
            },
            "type": "scattergl"
           }
          ],
          "scattermapbox": [
           {
            "marker": {
             "colorbar": {
              "outlinewidth": 0,
              "ticks": ""
             }
            },
            "type": "scattermapbox"
           }
          ],
          "scatterpolar": [
           {
            "marker": {
             "colorbar": {
              "outlinewidth": 0,
              "ticks": ""
             }
            },
            "type": "scatterpolar"
           }
          ],
          "scatterpolargl": [
           {
            "marker": {
             "colorbar": {
              "outlinewidth": 0,
              "ticks": ""
             }
            },
            "type": "scatterpolargl"
           }
          ],
          "scatterternary": [
           {
            "marker": {
             "colorbar": {
              "outlinewidth": 0,
              "ticks": ""
             }
            },
            "type": "scatterternary"
           }
          ],
          "surface": [
           {
            "colorbar": {
             "outlinewidth": 0,
             "ticks": ""
            },
            "colorscale": [
             [
              0,
              "#0d0887"
             ],
             [
              0.1111111111111111,
              "#46039f"
             ],
             [
              0.2222222222222222,
              "#7201a8"
             ],
             [
              0.3333333333333333,
              "#9c179e"
             ],
             [
              0.4444444444444444,
              "#bd3786"
             ],
             [
              0.5555555555555556,
              "#d8576b"
             ],
             [
              0.6666666666666666,
              "#ed7953"
             ],
             [
              0.7777777777777778,
              "#fb9f3a"
             ],
             [
              0.8888888888888888,
              "#fdca26"
             ],
             [
              1,
              "#f0f921"
             ]
            ],
            "type": "surface"
           }
          ],
          "table": [
           {
            "cells": {
             "fill": {
              "color": "#EBF0F8"
             },
             "line": {
              "color": "white"
             }
            },
            "header": {
             "fill": {
              "color": "#C8D4E3"
             },
             "line": {
              "color": "white"
             }
            },
            "type": "table"
           }
          ]
         },
         "layout": {
          "annotationdefaults": {
           "arrowcolor": "#2a3f5f",
           "arrowhead": 0,
           "arrowwidth": 1
          },
          "autotypenumbers": "strict",
          "coloraxis": {
           "colorbar": {
            "outlinewidth": 0,
            "ticks": ""
           }
          },
          "colorscale": {
           "diverging": [
            [
             0,
             "#8e0152"
            ],
            [
             0.1,
             "#c51b7d"
            ],
            [
             0.2,
             "#de77ae"
            ],
            [
             0.3,
             "#f1b6da"
            ],
            [
             0.4,
             "#fde0ef"
            ],
            [
             0.5,
             "#f7f7f7"
            ],
            [
             0.6,
             "#e6f5d0"
            ],
            [
             0.7,
             "#b8e186"
            ],
            [
             0.8,
             "#7fbc41"
            ],
            [
             0.9,
             "#4d9221"
            ],
            [
             1,
             "#276419"
            ]
           ],
           "sequential": [
            [
             0,
             "#0d0887"
            ],
            [
             0.1111111111111111,
             "#46039f"
            ],
            [
             0.2222222222222222,
             "#7201a8"
            ],
            [
             0.3333333333333333,
             "#9c179e"
            ],
            [
             0.4444444444444444,
             "#bd3786"
            ],
            [
             0.5555555555555556,
             "#d8576b"
            ],
            [
             0.6666666666666666,
             "#ed7953"
            ],
            [
             0.7777777777777778,
             "#fb9f3a"
            ],
            [
             0.8888888888888888,
             "#fdca26"
            ],
            [
             1,
             "#f0f921"
            ]
           ],
           "sequentialminus": [
            [
             0,
             "#0d0887"
            ],
            [
             0.1111111111111111,
             "#46039f"
            ],
            [
             0.2222222222222222,
             "#7201a8"
            ],
            [
             0.3333333333333333,
             "#9c179e"
            ],
            [
             0.4444444444444444,
             "#bd3786"
            ],
            [
             0.5555555555555556,
             "#d8576b"
            ],
            [
             0.6666666666666666,
             "#ed7953"
            ],
            [
             0.7777777777777778,
             "#fb9f3a"
            ],
            [
             0.8888888888888888,
             "#fdca26"
            ],
            [
             1,
             "#f0f921"
            ]
           ]
          },
          "colorway": [
           "#636efa",
           "#EF553B",
           "#00cc96",
           "#ab63fa",
           "#FFA15A",
           "#19d3f3",
           "#FF6692",
           "#B6E880",
           "#FF97FF",
           "#FECB52"
          ],
          "font": {
           "color": "#2a3f5f"
          },
          "geo": {
           "bgcolor": "white",
           "lakecolor": "white",
           "landcolor": "#E5ECF6",
           "showlakes": true,
           "showland": true,
           "subunitcolor": "white"
          },
          "hoverlabel": {
           "align": "left"
          },
          "hovermode": "closest",
          "mapbox": {
           "style": "light"
          },
          "paper_bgcolor": "white",
          "plot_bgcolor": "#E5ECF6",
          "polar": {
           "angularaxis": {
            "gridcolor": "white",
            "linecolor": "white",
            "ticks": ""
           },
           "bgcolor": "#E5ECF6",
           "radialaxis": {
            "gridcolor": "white",
            "linecolor": "white",
            "ticks": ""
           }
          },
          "scene": {
           "xaxis": {
            "backgroundcolor": "#E5ECF6",
            "gridcolor": "white",
            "gridwidth": 2,
            "linecolor": "white",
            "showbackground": true,
            "ticks": "",
            "zerolinecolor": "white"
           },
           "yaxis": {
            "backgroundcolor": "#E5ECF6",
            "gridcolor": "white",
            "gridwidth": 2,
            "linecolor": "white",
            "showbackground": true,
            "ticks": "",
            "zerolinecolor": "white"
           },
           "zaxis": {
            "backgroundcolor": "#E5ECF6",
            "gridcolor": "white",
            "gridwidth": 2,
            "linecolor": "white",
            "showbackground": true,
            "ticks": "",
            "zerolinecolor": "white"
           }
          },
          "shapedefaults": {
           "line": {
            "color": "#2a3f5f"
           }
          },
          "ternary": {
           "aaxis": {
            "gridcolor": "white",
            "linecolor": "white",
            "ticks": ""
           },
           "baxis": {
            "gridcolor": "white",
            "linecolor": "white",
            "ticks": ""
           },
           "bgcolor": "#E5ECF6",
           "caxis": {
            "gridcolor": "white",
            "linecolor": "white",
            "ticks": ""
           }
          },
          "title": {
           "x": 0.05
          },
          "xaxis": {
           "automargin": true,
           "gridcolor": "white",
           "linecolor": "white",
           "ticks": "",
           "title": {
            "standoff": 15
           },
           "zerolinecolor": "white",
           "zerolinewidth": 2
          },
          "yaxis": {
           "automargin": true,
           "gridcolor": "white",
           "linecolor": "white",
           "ticks": "",
           "title": {
            "standoff": 15
           },
           "zerolinecolor": "white",
           "zerolinewidth": 2
          }
         }
        }
       }
      }
     },
     "metadata": {},
     "output_type": "display_data"
    }
   ],
   "source": [
    "fig = go.Figure()\n",
    "res_y = neigh.predict(test_x.reshape(-1, 1))\n",
    "\n",
    "fig.add_trace(go.Scatter(\n",
    "                    x=test_x,\n",
    "                    y=test_y,\n",
    "                    line=dict(color='green', width=2),\n",
    "                    name='Данные для обучения',\n",
    "                   )\n",
    ")\n",
    "fig.add_trace(go.Scatter(\n",
    "                    x=test_x,\n",
    "                    y=res_y,\n",
    "                    line=dict(color='red', width=2),\n",
    "                    name='Данные для верификации',\n",
    "                    )\n",
    ")\n",
    "fig.show()"
   ]
  },
  {
   "cell_type": "markdown",
   "metadata": {},
   "source": [
    "### ARIMA"
   ]
  },
  {
   "cell_type": "code",
   "execution_count": 81,
   "metadata": {},
   "outputs": [
    {
     "data": {
      "application/vnd.plotly.v1+json": {
       "config": {
        "plotlyServerURL": "https://plot.ly"
       },
       "data": [
        {
         "line": {
          "color": "green",
          "width": 2
         },
         "name": "Реальные значения",
         "type": "scatter",
         "x": [
          0,
          345600,
          432000,
          518400,
          604800,
          864000,
          950400,
          1036800,
          1123200,
          1209600,
          1468800,
          1555200,
          1641600,
          1728000,
          1814400,
          2073600,
          2160000,
          2246400,
          2332800,
          2419200,
          2678400,
          2764800,
          2851200,
          2937600,
          3024000,
          3283200,
          3456000,
          3542400,
          3628800,
          3888000,
          3974400,
          4060800,
          4147200,
          4233600,
          4492800,
          4579200,
          4665600,
          4752000,
          4838400,
          5097600,
          5184000,
          5270400,
          5356800,
          5443200,
          5702400,
          5788800,
          5875200,
          5961600,
          6048000,
          6307200,
          6393600,
          6480000,
          6566400,
          6652800,
          6912000,
          6998400,
          7084800,
          7171200,
          7257600,
          7516800,
          7603200,
          7689600,
          7776000,
          7862400,
          8121600,
          8208000,
          8294400,
          8380800,
          8467200,
          8812800,
          8899200,
          8985600,
          9072000,
          9331200,
          9417600,
          9504000,
          9590400,
          9676800,
          9936000,
          10022400,
          10108800,
          10195200,
          10281600,
          10540800,
          10627200,
          10713600,
          10800000,
          10886400,
          11145600,
          11232000,
          11318400,
          11404800,
          11491200,
          11750400,
          11836800,
          11923200,
          12009600,
          12096000,
          12355200,
          12441600,
          12528000,
          12614400,
          12700800,
          12960000,
          13046400,
          13132800,
          13219200,
          13305600,
          13564800,
          13651200,
          13737600,
          13824000,
          13910400,
          14169600,
          14256000,
          14342400,
          14428800,
          14515200,
          14774400,
          14860800,
          14947200,
          15033600,
          15120000,
          15379200,
          15465600,
          15552000,
          15724800,
          15984000,
          16070400,
          16156800,
          16243200,
          16329600,
          16588800,
          16675200,
          16761600,
          16848000,
          16934400,
          17193600,
          17280000,
          17366400,
          17452800,
          17539200,
          17798400,
          17884800,
          17971200,
          18057600,
          18144000,
          18489600,
          18576000,
          18662400,
          18748800,
          19180800,
          19267200,
          19353600,
          19612800,
          19699200,
          19785600,
          19872000,
          19958400,
          20304000,
          20390400,
          20476800,
          20563200,
          20822400,
          20908800,
          20995200,
          21081600,
          21168000,
          21427200,
          21513600,
          21600000,
          21686400,
          21772800,
          22032000,
          22118400,
          22204800,
          22291200,
          22377600,
          22636800,
          22723200,
          22809600,
          22896000,
          22982400,
          23328000,
          23414400,
          23500800,
          23587200,
          23846400,
          23932800,
          24019200,
          24105600,
          24192000,
          24451200,
          24537600,
          24624000,
          24710400,
          24796800,
          25056000,
          25142400,
          25228800
         ],
         "y": [
          190.87,
          186.16,
          186.1,
          191.5,
          189.91,
          187.41,
          195.19,
          193.45,
          196.85,
          193.48,
          190.96,
          193.46,
          192.39,
          195.7,
          195.55,
          194.26,
          193.78,
          201.27,
          200.17,
          202.63,
          202.31,
          201.36,
          203.26,
          209.11,
          209.87,
          211.81,
          210.94,
          211.81,
          210.44,
          209.31,
          212.49,
          208.83,
          204.62,
          201.95,
          204.15,
          201.73,
          199.7,
          193.75,
          195.25,
          195.65,
          194.87,
          192.94,
          191.39,
          194.25,
          193.49,
          187.94,
          183.8,
          187.88,
          187.11,
          189.16,
          190.69,
          188.66,
          187.29,
          184.43,
          184.9,
          190.68,
          194.05,
          193.09,
          191.87,
          188.84,
          189.33,
          186.9,
          187.05,
          186.82,
          190.67,
          189.66,
          190.57,
          189.45,
          189.49,
          192.37,
          190.26,
          189.43,
          189.11,
          192.24,
          196.15,
          203.49,
          202.19,
          205.14,
          207.55,
          202.11,
          198.7,
          203.63,
          202.09,
          202.19,
          203.64,
          201.66,
          201.99,
          201.15,
          200.92,
          202.22,
          208.06,
          206.11,
          210.46,
          214.71,
          213.54,
          213.46,
          213.93,
          213.86,
          211.09,
          210.53,
          209.86,
          213.24,
          230.06,
          240.63,
          236.89,
          243.54,
          242.79,
          237.84,
          238.52,
          238.43,
          233.98,
          235.19,
          236.13,
          238.71,
          236.52,
          237.74,
          236.55,
          237.01,
          240.76,
          244.89,
          246.21,
          248.2,
          249.64,
          247.77,
          255.08,
          254.26,
          252.8,
          242.62,
          244.99,
          242.57,
          242.65,
          240.64,
          242.67,
          243.74,
          244.6,
          241.56,
          242.3,
          242.21,
          241.13,
          239.73,
          241.3,
          240.39,
          231.63,
          234.55,
          231.68,
          228.33,
          228.02,
          228.99,
          234.25,
          231.51,
          230.47,
          234.03,
          241.87,
          243.84,
          242.03,
          242.99,
          244.97,
          250.11,
          252.75,
          252.39,
          244.16,
          245.12,
          240.66,
          239.76,
          249.78,
          244.29,
          248.17,
          246.48,
          247.41,
          251,
          241.12,
          240.99,
          233.81,
          235.98,
          235.24,
          235.75,
          231.18,
          229.37,
          229.78,
          233.2,
          230.97,
          235.2,
          236.29,
          238.17,
          238.16,
          235.55,
          232.7,
          224.61,
          224.95,
          224.34,
          219.56,
          220.69,
          229,
          228.05,
          227.59,
          226.71,
          227.6,
          221.74,
          224.22
         ]
        },
        {
         "line": {
          "color": "red",
          "width": 2
         },
         "name": "ARIMA",
         "type": "scatter",
         "x": [
          20390400,
          20476800,
          20563200,
          20822400,
          20908800,
          20995200,
          21081600,
          21168000,
          21427200,
          21513600,
          21600000,
          21686400,
          21772800,
          22032000,
          22118400,
          22204800,
          22291200,
          22377600,
          22636800,
          22723200,
          22809600,
          22896000,
          22982400,
          23328000,
          23414400,
          23500800,
          23587200,
          23846400,
          23932800,
          24019200,
          24105600,
          24192000,
          24451200,
          24537600,
          24624000,
          24710400,
          24796800,
          25056000,
          25142400,
          25228800
         ],
         "y": [
          252.36026654906593,
          243.4672989130242,
          245.19401553882204,
          240.32623274569698,
          239.691476339766,
          250.49592372583967,
          244.06461146352643,
          248.28717028544827,
          246.4346295425455,
          247.43423594146594,
          251.09923886145316,
          241.01484460189764,
          240.9886018287983,
          233.72974894114574,
          235.98873135906175,
          235.23755026147995,
          235.75159898502898,
          231.17038055125371,
          229.3596685463348,
          229.78220409648267,
          233.22047951719256,
          230.96411283234275,
          235.193823095797,
          236.29057731693254,
          238.1728724143681,
          238.15998478524133,
          235.54599801795777,
          232.6868707920077,
          224.49322132352174,
          224.95438603475552,
          224.3321836509078,
          219.49297156212273,
          220.70318534123456,
          229.12899325382,
          228.03865942863655,
          227.58443023739926,
          226.69920302701013,
          227.61063801324627,
          221.68219122236042
         ]
        }
       ],
       "layout": {
        "template": {
         "data": {
          "bar": [
           {
            "error_x": {
             "color": "#2a3f5f"
            },
            "error_y": {
             "color": "#2a3f5f"
            },
            "marker": {
             "line": {
              "color": "#E5ECF6",
              "width": 0.5
             },
             "pattern": {
              "fillmode": "overlay",
              "size": 10,
              "solidity": 0.2
             }
            },
            "type": "bar"
           }
          ],
          "barpolar": [
           {
            "marker": {
             "line": {
              "color": "#E5ECF6",
              "width": 0.5
             },
             "pattern": {
              "fillmode": "overlay",
              "size": 10,
              "solidity": 0.2
             }
            },
            "type": "barpolar"
           }
          ],
          "carpet": [
           {
            "aaxis": {
             "endlinecolor": "#2a3f5f",
             "gridcolor": "white",
             "linecolor": "white",
             "minorgridcolor": "white",
             "startlinecolor": "#2a3f5f"
            },
            "baxis": {
             "endlinecolor": "#2a3f5f",
             "gridcolor": "white",
             "linecolor": "white",
             "minorgridcolor": "white",
             "startlinecolor": "#2a3f5f"
            },
            "type": "carpet"
           }
          ],
          "choropleth": [
           {
            "colorbar": {
             "outlinewidth": 0,
             "ticks": ""
            },
            "type": "choropleth"
           }
          ],
          "contour": [
           {
            "colorbar": {
             "outlinewidth": 0,
             "ticks": ""
            },
            "colorscale": [
             [
              0,
              "#0d0887"
             ],
             [
              0.1111111111111111,
              "#46039f"
             ],
             [
              0.2222222222222222,
              "#7201a8"
             ],
             [
              0.3333333333333333,
              "#9c179e"
             ],
             [
              0.4444444444444444,
              "#bd3786"
             ],
             [
              0.5555555555555556,
              "#d8576b"
             ],
             [
              0.6666666666666666,
              "#ed7953"
             ],
             [
              0.7777777777777778,
              "#fb9f3a"
             ],
             [
              0.8888888888888888,
              "#fdca26"
             ],
             [
              1,
              "#f0f921"
             ]
            ],
            "type": "contour"
           }
          ],
          "contourcarpet": [
           {
            "colorbar": {
             "outlinewidth": 0,
             "ticks": ""
            },
            "type": "contourcarpet"
           }
          ],
          "heatmap": [
           {
            "colorbar": {
             "outlinewidth": 0,
             "ticks": ""
            },
            "colorscale": [
             [
              0,
              "#0d0887"
             ],
             [
              0.1111111111111111,
              "#46039f"
             ],
             [
              0.2222222222222222,
              "#7201a8"
             ],
             [
              0.3333333333333333,
              "#9c179e"
             ],
             [
              0.4444444444444444,
              "#bd3786"
             ],
             [
              0.5555555555555556,
              "#d8576b"
             ],
             [
              0.6666666666666666,
              "#ed7953"
             ],
             [
              0.7777777777777778,
              "#fb9f3a"
             ],
             [
              0.8888888888888888,
              "#fdca26"
             ],
             [
              1,
              "#f0f921"
             ]
            ],
            "type": "heatmap"
           }
          ],
          "heatmapgl": [
           {
            "colorbar": {
             "outlinewidth": 0,
             "ticks": ""
            },
            "colorscale": [
             [
              0,
              "#0d0887"
             ],
             [
              0.1111111111111111,
              "#46039f"
             ],
             [
              0.2222222222222222,
              "#7201a8"
             ],
             [
              0.3333333333333333,
              "#9c179e"
             ],
             [
              0.4444444444444444,
              "#bd3786"
             ],
             [
              0.5555555555555556,
              "#d8576b"
             ],
             [
              0.6666666666666666,
              "#ed7953"
             ],
             [
              0.7777777777777778,
              "#fb9f3a"
             ],
             [
              0.8888888888888888,
              "#fdca26"
             ],
             [
              1,
              "#f0f921"
             ]
            ],
            "type": "heatmapgl"
           }
          ],
          "histogram": [
           {
            "marker": {
             "pattern": {
              "fillmode": "overlay",
              "size": 10,
              "solidity": 0.2
             }
            },
            "type": "histogram"
           }
          ],
          "histogram2d": [
           {
            "colorbar": {
             "outlinewidth": 0,
             "ticks": ""
            },
            "colorscale": [
             [
              0,
              "#0d0887"
             ],
             [
              0.1111111111111111,
              "#46039f"
             ],
             [
              0.2222222222222222,
              "#7201a8"
             ],
             [
              0.3333333333333333,
              "#9c179e"
             ],
             [
              0.4444444444444444,
              "#bd3786"
             ],
             [
              0.5555555555555556,
              "#d8576b"
             ],
             [
              0.6666666666666666,
              "#ed7953"
             ],
             [
              0.7777777777777778,
              "#fb9f3a"
             ],
             [
              0.8888888888888888,
              "#fdca26"
             ],
             [
              1,
              "#f0f921"
             ]
            ],
            "type": "histogram2d"
           }
          ],
          "histogram2dcontour": [
           {
            "colorbar": {
             "outlinewidth": 0,
             "ticks": ""
            },
            "colorscale": [
             [
              0,
              "#0d0887"
             ],
             [
              0.1111111111111111,
              "#46039f"
             ],
             [
              0.2222222222222222,
              "#7201a8"
             ],
             [
              0.3333333333333333,
              "#9c179e"
             ],
             [
              0.4444444444444444,
              "#bd3786"
             ],
             [
              0.5555555555555556,
              "#d8576b"
             ],
             [
              0.6666666666666666,
              "#ed7953"
             ],
             [
              0.7777777777777778,
              "#fb9f3a"
             ],
             [
              0.8888888888888888,
              "#fdca26"
             ],
             [
              1,
              "#f0f921"
             ]
            ],
            "type": "histogram2dcontour"
           }
          ],
          "mesh3d": [
           {
            "colorbar": {
             "outlinewidth": 0,
             "ticks": ""
            },
            "type": "mesh3d"
           }
          ],
          "parcoords": [
           {
            "line": {
             "colorbar": {
              "outlinewidth": 0,
              "ticks": ""
             }
            },
            "type": "parcoords"
           }
          ],
          "pie": [
           {
            "automargin": true,
            "type": "pie"
           }
          ],
          "scatter": [
           {
            "fillpattern": {
             "fillmode": "overlay",
             "size": 10,
             "solidity": 0.2
            },
            "type": "scatter"
           }
          ],
          "scatter3d": [
           {
            "line": {
             "colorbar": {
              "outlinewidth": 0,
              "ticks": ""
             }
            },
            "marker": {
             "colorbar": {
              "outlinewidth": 0,
              "ticks": ""
             }
            },
            "type": "scatter3d"
           }
          ],
          "scattercarpet": [
           {
            "marker": {
             "colorbar": {
              "outlinewidth": 0,
              "ticks": ""
             }
            },
            "type": "scattercarpet"
           }
          ],
          "scattergeo": [
           {
            "marker": {
             "colorbar": {
              "outlinewidth": 0,
              "ticks": ""
             }
            },
            "type": "scattergeo"
           }
          ],
          "scattergl": [
           {
            "marker": {
             "colorbar": {
              "outlinewidth": 0,
              "ticks": ""
             }
            },
            "type": "scattergl"
           }
          ],
          "scattermapbox": [
           {
            "marker": {
             "colorbar": {
              "outlinewidth": 0,
              "ticks": ""
             }
            },
            "type": "scattermapbox"
           }
          ],
          "scatterpolar": [
           {
            "marker": {
             "colorbar": {
              "outlinewidth": 0,
              "ticks": ""
             }
            },
            "type": "scatterpolar"
           }
          ],
          "scatterpolargl": [
           {
            "marker": {
             "colorbar": {
              "outlinewidth": 0,
              "ticks": ""
             }
            },
            "type": "scatterpolargl"
           }
          ],
          "scatterternary": [
           {
            "marker": {
             "colorbar": {
              "outlinewidth": 0,
              "ticks": ""
             }
            },
            "type": "scatterternary"
           }
          ],
          "surface": [
           {
            "colorbar": {
             "outlinewidth": 0,
             "ticks": ""
            },
            "colorscale": [
             [
              0,
              "#0d0887"
             ],
             [
              0.1111111111111111,
              "#46039f"
             ],
             [
              0.2222222222222222,
              "#7201a8"
             ],
             [
              0.3333333333333333,
              "#9c179e"
             ],
             [
              0.4444444444444444,
              "#bd3786"
             ],
             [
              0.5555555555555556,
              "#d8576b"
             ],
             [
              0.6666666666666666,
              "#ed7953"
             ],
             [
              0.7777777777777778,
              "#fb9f3a"
             ],
             [
              0.8888888888888888,
              "#fdca26"
             ],
             [
              1,
              "#f0f921"
             ]
            ],
            "type": "surface"
           }
          ],
          "table": [
           {
            "cells": {
             "fill": {
              "color": "#EBF0F8"
             },
             "line": {
              "color": "white"
             }
            },
            "header": {
             "fill": {
              "color": "#C8D4E3"
             },
             "line": {
              "color": "white"
             }
            },
            "type": "table"
           }
          ]
         },
         "layout": {
          "annotationdefaults": {
           "arrowcolor": "#2a3f5f",
           "arrowhead": 0,
           "arrowwidth": 1
          },
          "autotypenumbers": "strict",
          "coloraxis": {
           "colorbar": {
            "outlinewidth": 0,
            "ticks": ""
           }
          },
          "colorscale": {
           "diverging": [
            [
             0,
             "#8e0152"
            ],
            [
             0.1,
             "#c51b7d"
            ],
            [
             0.2,
             "#de77ae"
            ],
            [
             0.3,
             "#f1b6da"
            ],
            [
             0.4,
             "#fde0ef"
            ],
            [
             0.5,
             "#f7f7f7"
            ],
            [
             0.6,
             "#e6f5d0"
            ],
            [
             0.7,
             "#b8e186"
            ],
            [
             0.8,
             "#7fbc41"
            ],
            [
             0.9,
             "#4d9221"
            ],
            [
             1,
             "#276419"
            ]
           ],
           "sequential": [
            [
             0,
             "#0d0887"
            ],
            [
             0.1111111111111111,
             "#46039f"
            ],
            [
             0.2222222222222222,
             "#7201a8"
            ],
            [
             0.3333333333333333,
             "#9c179e"
            ],
            [
             0.4444444444444444,
             "#bd3786"
            ],
            [
             0.5555555555555556,
             "#d8576b"
            ],
            [
             0.6666666666666666,
             "#ed7953"
            ],
            [
             0.7777777777777778,
             "#fb9f3a"
            ],
            [
             0.8888888888888888,
             "#fdca26"
            ],
            [
             1,
             "#f0f921"
            ]
           ],
           "sequentialminus": [
            [
             0,
             "#0d0887"
            ],
            [
             0.1111111111111111,
             "#46039f"
            ],
            [
             0.2222222222222222,
             "#7201a8"
            ],
            [
             0.3333333333333333,
             "#9c179e"
            ],
            [
             0.4444444444444444,
             "#bd3786"
            ],
            [
             0.5555555555555556,
             "#d8576b"
            ],
            [
             0.6666666666666666,
             "#ed7953"
            ],
            [
             0.7777777777777778,
             "#fb9f3a"
            ],
            [
             0.8888888888888888,
             "#fdca26"
            ],
            [
             1,
             "#f0f921"
            ]
           ]
          },
          "colorway": [
           "#636efa",
           "#EF553B",
           "#00cc96",
           "#ab63fa",
           "#FFA15A",
           "#19d3f3",
           "#FF6692",
           "#B6E880",
           "#FF97FF",
           "#FECB52"
          ],
          "font": {
           "color": "#2a3f5f"
          },
          "geo": {
           "bgcolor": "white",
           "lakecolor": "white",
           "landcolor": "#E5ECF6",
           "showlakes": true,
           "showland": true,
           "subunitcolor": "white"
          },
          "hoverlabel": {
           "align": "left"
          },
          "hovermode": "closest",
          "mapbox": {
           "style": "light"
          },
          "paper_bgcolor": "white",
          "plot_bgcolor": "#E5ECF6",
          "polar": {
           "angularaxis": {
            "gridcolor": "white",
            "linecolor": "white",
            "ticks": ""
           },
           "bgcolor": "#E5ECF6",
           "radialaxis": {
            "gridcolor": "white",
            "linecolor": "white",
            "ticks": ""
           }
          },
          "scene": {
           "xaxis": {
            "backgroundcolor": "#E5ECF6",
            "gridcolor": "white",
            "gridwidth": 2,
            "linecolor": "white",
            "showbackground": true,
            "ticks": "",
            "zerolinecolor": "white"
           },
           "yaxis": {
            "backgroundcolor": "#E5ECF6",
            "gridcolor": "white",
            "gridwidth": 2,
            "linecolor": "white",
            "showbackground": true,
            "ticks": "",
            "zerolinecolor": "white"
           },
           "zaxis": {
            "backgroundcolor": "#E5ECF6",
            "gridcolor": "white",
            "gridwidth": 2,
            "linecolor": "white",
            "showbackground": true,
            "ticks": "",
            "zerolinecolor": "white"
           }
          },
          "shapedefaults": {
           "line": {
            "color": "#2a3f5f"
           }
          },
          "ternary": {
           "aaxis": {
            "gridcolor": "white",
            "linecolor": "white",
            "ticks": ""
           },
           "baxis": {
            "gridcolor": "white",
            "linecolor": "white",
            "ticks": ""
           },
           "bgcolor": "#E5ECF6",
           "caxis": {
            "gridcolor": "white",
            "linecolor": "white",
            "ticks": ""
           }
          },
          "title": {
           "x": 0.05
          },
          "xaxis": {
           "automargin": true,
           "gridcolor": "white",
           "linecolor": "white",
           "ticks": "",
           "title": {
            "standoff": 15
           },
           "zerolinecolor": "white",
           "zerolinewidth": 2
          },
          "yaxis": {
           "automargin": true,
           "gridcolor": "white",
           "linecolor": "white",
           "ticks": "",
           "title": {
            "standoff": 15
           },
           "zerolinecolor": "white",
           "zerolinewidth": 2
          }
         }
        }
       }
      }
     },
     "metadata": {},
     "output_type": "display_data"
    }
   ],
   "source": [
    "import statsmodels.api as sm\n",
    "\n",
    "history = [y for y in train_y]\n",
    "predictions = []\n",
    "\n",
    "for i in range(1, len(test_y)):\n",
    "    model = sm.tsa.arima.ARIMA(history, order=(1,1,0))\n",
    "    model= model.fit()\n",
    "\n",
    "    yhat = model.forecast()[0]\n",
    "    predictions.append(yhat)\n",
    "\n",
    "    obs = test_y[i]\n",
    "    history.append(obs)\n",
    "\n",
    "fig = go.Figure()\n",
    "res_y = neigh.predict(test_x.reshape(-1, 1))\n",
    "\n",
    "fig.add_trace(go.Scatter(\n",
    "                    y=history,\n",
    "                    x = x,\n",
    "                    line=dict(color='green', width=2),\n",
    "                    name='Реальные значения',\n",
    "                   )\n",
    ")\n",
    "fig.add_trace(go.Scatter(\n",
    "                    y=predictions,\n",
    "                    x = test_x,\n",
    "                    line=dict(color='red', width=2),\n",
    "                    name='ARIMA',\n",
    "                    )\n",
    ")\n",
    "fig.show()"
   ]
  },
  {
   "cell_type": "markdown",
   "metadata": {},
   "source": [
    "### Задание \n",
    "Взять не менее 100 значений и разбить их на 2 выборки (80 и 20). Использовать первые 80 значений для обучения моделей:\n",
    "-  методом МНК для функций y=c0+c1*x+c2*x^2;\n",
    "- методом kNN;\n",
    "- ARIMA модели.\n",
    "Построить графики получаемых с использованием построенных моделей функций и нанести значения из тренировочной и тестовой выборок.\n"
   ]
  }
 ],
 "metadata": {
  "kernelspec": {
   "display_name": "Python 3 (ipykernel)",
   "language": "python",
   "name": "python3"
  },
  "language_info": {
   "codemirror_mode": {
    "name": "ipython",
    "version": 3
   },
   "file_extension": ".py",
   "mimetype": "text/x-python",
   "name": "python",
   "nbconvert_exporter": "python",
   "pygments_lexer": "ipython3",
   "version": "3.10.0"
  }
 },
 "nbformat": 4,
 "nbformat_minor": 4
}
